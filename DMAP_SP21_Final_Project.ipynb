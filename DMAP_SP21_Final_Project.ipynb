{
 "cells": [
  {
   "cell_type": "code",
   "execution_count": null,
   "metadata": {
    "collapsed": true,
    "id": "MPrJ8HLyC-Cd"
   },
   "outputs": [],
   "source": [
    "# Keep this code cell here\n",
    "# Project title will be used by the reviewer\n",
    "PROJECT_TITLE = \"Get better at Fantasy Soccer!\"\n",
    "NOTEBOOK_ID   = \"https://colab.research.google.com/drive/1VKKXezOuFSrVxv33idf5H1K3dBsXyxhM#scrollTo=MPrJ8HLyC-Cd\"\n",
    "VERSION = \"SP21\""
   ]
  },
  {
   "cell_type": "markdown",
   "metadata": {
    "id": "RJIe6IWUfTvb"
   },
   "source": [
    "---\n",
    "# Project Introduction\n",
    "\n",
    "\n",
    "![](http://drive.google.com/uc?export=view&id=14a8IfMWj2EsJSgylj4h_WlSDniU3Z7NW)\n",
    "\n",
    "\n",
    "The Fantasy Premier League (FPL) is a Fantasy league revolving around soccer in the English Premier League. The \"game\" (for some people; an obsession) was developed and put into action in 2002, and has since taken off, with over 7.6 million players taking part in the last season. \n",
    "\n",
    "<br>\n",
    "\n",
    "As many might know, Fantasy Football/Soccer is similar to other fantasy sports and revolves around building a team with players who participate in the sport and a certain budget. Your custom team then earns points after each game week (in soccer) which is then matched up with other players in the Fantasy League. Naturally, building a team that earns you the most points is the goal, with stunning prizes for top winners after the season. \n",
    "\n",
    "The points per game week are calculated through a variety of factors based on how the player performs in games in reality. Intuitively, the better a player performs in game (scoring goals, playing the full match, making saves, defending well, giving assists), the more points that particular player earns. \n",
    "\n",
    "With the advent of Data Science, Statistics, Machine Learning, and essentially technology in sports over recent years, the trend has carried on heavily toward Fantasy as well. The data acquired through games, and the statistical possibilities through technology show clear dominance over natrually (without analysis) selected teams by most players. The top FPL players use extensive statistical tools to assist them in selecting the best possible team every season. With sport constantly relying on statistics, it is evident that data explores and reveals a whole slew of possibilities than can be seen without any analysis. \n",
    "\n",
    "<br>\n",
    "\n",
    "Hence, as a player of FPL and a lifelong soccer fan, I never really explored what could be done when data and my knowledge of data analysis and machine learning integrate with respect to playing FPL. This project revolves around using this current season's data (updated player data, most recent gameweek data) to select a team that is capable of earning the maximum points possible in the next gameweek. Each team consists of 15 players (2 Goalkeepers (GK), 5 Defenders (DEF), 5 Midfielders (MID), 3 Forwards (FWD)) of which 11 are selected to play each gameweek. A more comprehensive rulebook can be found here for more information: https://fantasy.premierleague.com/\n",
    "\n",
    "<br>\n",
    "\n",
    "I plan to use statistical and data analysis tools to measure player performance and select the 15 man squad for the next gameweek. As the season is already underway, a constant exploration would not be possible, but testing is done by using gameweek data as well as measuring the total points the team acquired compared to other players which can be found on the FPL website. \n",
    "\n",
    "\n",
    "\n",
    "<!-- this is a comment -->\n",
    "<!-- \n",
    "\n",
    "   VIDEO INSTRUCTIONS (and data hosting)\n",
    "\n",
    "1. upload to google drive, get the share URL\n",
    "https://drive.google.com/file/d/1yGvY5a0KAqnOKf5kLh5EbbbRY4_LonAX\n",
    "\n",
    "2. convert to export URL:\n",
    "http://drive.google.com/uc?export=download&id=1yGvY5a0KAqnOKf5kLh5EbbbRY4_LonAX\n",
    "\n",
    "3. OR use some other service to host your video:\n",
    "https://storage.googleapis.com/uicourse/videos/dmap/Exact%20Instructions%20Challenge%20-%20THIS%20is%20why%20my%20kids%20hate%20me.%20%20Josh%20Darnit.mp4\n",
    "\n",
    "replace the src=\"YOUR VIDEO URL\" in the <source> tag in the next cell below\n",
    "-->"
   ]
  },
  {
   "cell_type": "markdown",
   "metadata": {
    "id": "jHn_4k0Jga5Z"
   },
   "source": [
    "# Outlining analysis to be done..."
   ]
  },
  {
   "cell_type": "markdown",
   "metadata": {
    "id": "Frcs1PQage7S"
   },
   "source": [
    "So! We have 2 broad goals for this project, to select the best team of 15 players, and to predict/evaluate how well they will do in the next gameweek. \n",
    "\n",
    "\n",
    "#### **1. Selecting players**\n",
    "\n",
    "Our data includes player-by-player updated information from this season of Premier League Soccer (should be called football). The first goal is to use a basic evaluation criterion to measure how good a player is. We can model this using a basic metric of cost-benefit where a player's points and his current value are taken into account. \n",
    "\n",
    "But first, we need to look at the right areas to achieve this. Notably, the criterias used to judge players who play in different positions vary. Therefore, an approach that performs this cost-benefit analysis per-position is the way to go. To do so, I will isolate our player dataset into the 4 positions we have to pick for (GK,DEF,MID,FWD). \n",
    "\n",
    "For each position, we have different variables we can judge player performance on and visualize. Our key takeaways will be to eliminate any biases by using results of our analysis to select the best team for the gameweek. \n",
    "\n",
    "There are a lot of interesting results to consider evaluating our data from a holistic view as well. I will consider which teams are likely to be undervalued or overvalued in general, and which positions tend to have higher points per cost. By doing so, we are setting us up with enough information to pick our starting 11 after our intial selection. This can be done using basic visualization along with some clever data manipulations using pandas.\n",
    "\n",
    "Now, there can only be 11 players(1 GK, 3/4/5 DEF, 3/4/5 MID, 1/2/3 FWD) that play in your starting team each week while 4 players take the bench. Further we also have a cap of 3 players that can be included from one team into our squad. In order to pick our starting formation regarding the number and types of positions we include in the starting team, we use the holistic results and form we did earlier. \n",
    "\n",
    "<br>\n",
    "\n",
    "#### **2. Evaluations/Predictions**\n",
    "\n",
    "The team we picked from the previous section is a rudimentary and satisfiable result. To go further and test our skills, I want to evaluate how well the team will do by predicting the expected points the team would get the next game week and then compare our selection with the actual performance and also compare it to the team that performed best that gameweek. \n",
    "\n",
    "To do this, I will first be using specific individual player data that is avaliable on the same github that encompasses detailed statistics given PER GAMEWEEK for that respective player. Since it will be useless (and long) to do this analysis on all the players in the league, I will use this isolated player data for the 15 players we chose from the previous section. Now, since the individualized data has separated results from all previous gameweek, I will be employing a Regression based approach in predicting the expected points per player in the team. With the individual statistics, we can track the progress the player has made through the season. Through a regression based approach, we will effectively create a model to predict how many total points the team as a whole will score that game week. \n",
    "\n",
    "By combining our visualization and analysis, we can effectively compare how well the team performed based on the updated gameweek results and further track which players performed best/worst in the team. \n",
    "\n",
    "<br>\n",
    "\n",
    "#### **3. Further thoughts**\n",
    "\n",
    "Although the Regression analysis will work as a predictive tool, evaluating model performance is another goal of this project. I plan on trying to use different Regression techniques judging by how best the models are using the SIC (Shwartz Information Criterion) and R^2 (Goodness of fit). Further, I also plan on trying to implement the xGBoost algorithm, which is a well performing algorithm for these type of analyses. "
   ]
  },
  {
   "cell_type": "code",
   "execution_count": 1,
   "metadata": {
    "colab": {
     "base_uri": "https://localhost:8080/",
     "height": 508
    },
    "id": "JQo5zhkeEuXL",
    "outputId": "4bc0a64a-6faa-41ae-8940-a875f17b3df5"
   },
   "outputs": [
    {
     "data": {
      "text/html": [
       "<!-- this should be the ONLY html cell in the notebook: use markdown -->\n",
       "<div style=\"font-size:36px; max-width:800px; font-family:Times, serif;\">\n",
       " \"Get better at Fantasy Soccer!\" (A long but detailed video for your pleasure!)\n",
       " \n",
       "<video width=\"600\" controls>\n",
       "  <source src=\"https://drive.google.com/uc?export=download&id=1kbUoGkUJBg2cg14S8POFLwKttOsWkHta\"\n",
       "  type=\"video/mp4\">\n",
       "</video>\n",
       "</div>\n",
       "Note: If your video is too large, you can host it on Vimeo, YouTube, etc and paste the URL here"
      ],
      "text/plain": [
       "<IPython.core.display.HTML object>"
      ]
     },
     "metadata": {},
     "output_type": "display_data"
    }
   ],
   "source": [
    "%%html\n",
    "<!-- this should be the ONLY html cell in the notebook: use markdown -->\n",
    "<div style=\"font-size:36px; max-width:800px; font-family:Times, serif;\">\n",
    " \"Get better at Fantasy Soccer!\" (A long but detailed video for your pleasure!)\n",
    " \n",
    "<video width=\"600\" controls>\n",
    "  <source src=\"https://drive.google.com/uc?export=download&id=1kbUoGkUJBg2cg14S8POFLwKttOsWkHta\"\n",
    "  type=\"video/mp4\">\n",
    "</video>\n",
    "</div>\n",
    "Note: If your video is too large, you can host it on Vimeo, YouTube, etc and paste the URL here"
   ]
  },
  {
   "cell_type": "code",
   "execution_count": null,
   "metadata": {
    "collapsed": true,
    "id": "4ZK0-f54UAtE"
   },
   "outputs": [],
   "source": [
    "# add your imports here for your entire project\n",
    "import pandas as pd\n",
    "import numpy as np\n",
    "import requests\n",
    "import matplotlib.pyplot as plt\n",
    "from sklearn.linear_model import LinearRegression\n",
    "from sklearn.metrics import r2_score\n",
    "from sklearn.preprocessing import PolynomialFeatures\n",
    "\n",
    "pd.options.display.max_columns = None\n"
   ]
  },
  {
   "cell_type": "code",
   "execution_count": null,
   "metadata": {
    "collapsed": true,
    "id": "MJ71_06ig7P7"
   },
   "outputs": [],
   "source": [
    "% matplotlib inline"
   ]
  },
  {
   "cell_type": "markdown",
   "metadata": {
    "id": "GJvmagnZDPjW"
   },
   "source": [
    "\n",
    "# Data Acquisition, Selection, Cleaning\n"
   ]
  },
  {
   "cell_type": "markdown",
   "metadata": {
    "id": "f2c-FZGMhBzy"
   },
   "source": [
    "## Technicalities \n",
    "\n",
    "The data is extracted from https://github.com/vaastav/Fantasy-Premier-League.\n",
    "\n",
    "Cleaning of the raw player data included isolating the necessary columns for analysis, making the data numerically readable, organizing table structure, and renaming columns. I further extracted the most recent gameweek data, and did a basic restructuring to make it easily readable.\n",
    "\n",
    "\"install_data\" proceeds to load in the respective data sets. A plethora of information related to pending analysis has been loaded. \n",
    "<br>\n",
    "\n",
    "\n",
    "</p>The goal is to split the project into 2 broad halves, picking the team and evaluating the team performance."
   ]
  },
  {
   "cell_type": "markdown",
   "metadata": {
    "id": "Vi7af9dyhJmy"
   },
   "source": [
    "## Data Preparation"
   ]
  },
  {
   "cell_type": "markdown",
   "metadata": {
    "id": "HyxvetSnhNjg"
   },
   "source": [
    "Most of the raw form of data taken from the github was then cleaned separately to include only the necessary tables that analysis will take place on. "
   ]
  },
  {
   "cell_type": "code",
   "execution_count": 3,
   "metadata": {
    "collapsed": true,
    "id": "2608Lt9j2npL"
   },
   "outputs": [],
   "source": [
    "def install_data():\n",
    "    \n",
    "    '''\n",
    "    This function installs the relevant datasets for the project. \n",
    "    Data extracted from 'https://github.com/vaastav/Fantasy-Premier-League'\n",
    "\n",
    "    GW_32 data represents the current gameweek's data results. This week was the 32nd gameweek. \n",
    "    player_data is the dataset that gives the up-to-date stats per player. (includes all players in the league)\n",
    "\n",
    "    player_isolate data: \n",
    "    \n",
    "    The specific data sets per player (after 15 player team selection) are imported. \n",
    "    Includes week-by-week stats of the respective player\n",
    "\n",
    "    General Info about the data sets:\n",
    "\n",
    "    'element_type' : The field that corresponds to the position. 1 = GK 2 = DEF 3 = MID 4 = FWD\n",
    "    'ict_index' : represents the influence,creativity,threat score for a player based on complex \n",
    "                  algorithm by the Premier League\n",
    "    'team_a_score/team_h_score' : The 'Away' and 'Home' teams scores for that gameweek\n",
    "    'bps': Bonus Points System\n",
    "    'clean_sheets' : Gives the number of matches where the goalkeeper/defender did not concede a goal\n",
    "    'form' : Current form of the player based on performance ratings\n",
    "    'transfers in/out' : The number of transfers (including into the team/removing from team) \n",
    "                         that was made in fantasy for that respective player\n",
    "    'selected_by_percent' : Percentage of fantasy players that have the respective player in the team\n",
    "    'cost_now' : The updated most recent cost of the player in Fantasy \n",
    "\n",
    "    '''\n",
    "    GW_32 = pd.read_csv('https://drive.google.com/uc?export=download&id=1xJ14--24ShiIJ0ONFYuORQHyYW6ufoYI')\n",
    "    player_data = pd.read_csv('https://drive.google.com/uc?export=download&id=1Ht-YCjEtaL8MzAZgfnGig_jqXZi0UK4K')\n",
    "    \n",
    "    return GW_32,player_data\n"
   ]
  },
  {
   "cell_type": "markdown",
   "metadata": {
    "id": "cZiK2fxwGz80"
   },
   "source": [
    "# Data Exploration and Analysis"
   ]
  },
  {
   "cell_type": "code",
   "execution_count": 4,
   "metadata": {
    "id": "LAFxxqXhhiil"
   },
   "outputs": [
    {
     "ename": "NameError",
     "evalue": "name 'pd' is not defined",
     "output_type": "error",
     "traceback": [
      "\u001b[0;31m---------------------------------------------------------------------------\u001b[0m",
      "\u001b[0;31mNameError\u001b[0m                                 Traceback (most recent call last)",
      "\u001b[0;32m<ipython-input-4-1d8c8a9511a8>\u001b[0m in \u001b[0;36m<module>\u001b[0;34m()\u001b[0m\n\u001b[1;32m      1\u001b[0m \u001b[0;31m#Installing and showing the current gameweek data and player data\u001b[0m\u001b[0;34m\u001b[0m\u001b[0;34m\u001b[0m\u001b[0m\n\u001b[1;32m      2\u001b[0m \u001b[0;34m\u001b[0m\u001b[0m\n\u001b[0;32m----> 3\u001b[0;31m \u001b[0mGW_curr\u001b[0m\u001b[0;34m,\u001b[0m \u001b[0mplayer_data\u001b[0m \u001b[0;34m=\u001b[0m \u001b[0minstall_data\u001b[0m\u001b[0;34m(\u001b[0m\u001b[0;34m)\u001b[0m\u001b[0;34m\u001b[0m\u001b[0m\n\u001b[0m\u001b[1;32m      4\u001b[0m \u001b[0mplayer_data\u001b[0m \u001b[0;34m=\u001b[0m \u001b[0mplayer_data\u001b[0m\u001b[0;34m.\u001b[0m\u001b[0mdrop\u001b[0m\u001b[0;34m(\u001b[0m\u001b[0mplayer_data\u001b[0m\u001b[0;34m.\u001b[0m\u001b[0mcolumns\u001b[0m\u001b[0;34m[\u001b[0m\u001b[0;36m0\u001b[0m\u001b[0;34m]\u001b[0m\u001b[0;34m,\u001b[0m\u001b[0maxis\u001b[0m\u001b[0;34m=\u001b[0m\u001b[0;36m1\u001b[0m\u001b[0;34m)\u001b[0m\u001b[0;34m\u001b[0m\u001b[0m\n\u001b[1;32m      5\u001b[0m \u001b[0;34m\u001b[0m\u001b[0m\n",
      "\u001b[0;32m<ipython-input-3-051e5857523f>\u001b[0m in \u001b[0;36minstall_data\u001b[0;34m()\u001b[0m\n\u001b[1;32m     28\u001b[0m \u001b[0;34m\u001b[0m\u001b[0m\n\u001b[1;32m     29\u001b[0m     '''\n\u001b[0;32m---> 30\u001b[0;31m     \u001b[0mGW_32\u001b[0m \u001b[0;34m=\u001b[0m \u001b[0mpd\u001b[0m\u001b[0;34m.\u001b[0m\u001b[0mread_csv\u001b[0m\u001b[0;34m(\u001b[0m\u001b[0;34m'https://drive.google.com/uc?export=download&id=1xJ14--24ShiIJ0ONFYuORQHyYW6ufoYI'\u001b[0m\u001b[0;34m)\u001b[0m\u001b[0;34m\u001b[0m\u001b[0m\n\u001b[0m\u001b[1;32m     31\u001b[0m     \u001b[0mplayer_data\u001b[0m \u001b[0;34m=\u001b[0m \u001b[0mpd\u001b[0m\u001b[0;34m.\u001b[0m\u001b[0mread_csv\u001b[0m\u001b[0;34m(\u001b[0m\u001b[0;34m'https://drive.google.com/uc?export=download&id=1Ht-YCjEtaL8MzAZgfnGig_jqXZi0UK4K'\u001b[0m\u001b[0;34m)\u001b[0m\u001b[0;34m\u001b[0m\u001b[0m\n\u001b[1;32m     32\u001b[0m \u001b[0;34m\u001b[0m\u001b[0m\n",
      "\u001b[0;31mNameError\u001b[0m: name 'pd' is not defined"
     ]
    }
   ],
   "source": [
    "#Installing and showing the current gameweek data and player data\n",
    "\n",
    "GW_curr, player_data = install_data()\n",
    "player_data = player_data.drop(player_data.columns[0],axis=1)\n",
    "\n",
    "# removing players with 0 minutes as they have not played at all\n",
    "player_data = player_data.loc[player_data.minutes > 0] \n",
    "\n",
    "#GW_curr.head()\n",
    "#player_data.head()"
   ]
  },
  {
   "cell_type": "markdown",
   "metadata": {
    "id": "qABV492ihkSZ"
   },
   "source": [
    "In this section we explore the context of searching for the ideal best team to play in the season based on data till now. After selection of the team, we are allowed only 1 transfer for free each week. Based on player data, we isolate the statistics along for each respective position to achieve the best combination possible. Our results may not be viable if we take the dataset of all players as we need a total of 2 GK, 5 DEF, 5 MID, and 3 FWD to compose our team.\n",
    "\n",
    "\n",
    "We will employ a common approach to value and sort through players, namely a Return on Investment (ROI) approach. \n",
    "\n",
    "### **ROI = Total points of the player/ cost of the player** \n",
    "\n",
    "By doing so, we evaluate the ROI of each player which gives us an average number of points that individual player provides per million spent. Remember, our team budget is only 100 million for 15 players. "
   ]
  },
  {
   "cell_type": "code",
   "execution_count": null,
   "metadata": {
    "colab": {
     "base_uri": "https://localhost:8080/",
     "height": 234
    },
    "id": "CamZNZ_3h57j",
    "outputId": "213117de-cc62-4f9c-fe5b-d0c96a486aaa"
   },
   "outputs": [
    {
     "data": {
      "text/html": [
       "<div>\n",
       "<style scoped>\n",
       "    .dataframe tbody tr th:only-of-type {\n",
       "        vertical-align: middle;\n",
       "    }\n",
       "\n",
       "    .dataframe tbody tr th {\n",
       "        vertical-align: top;\n",
       "    }\n",
       "\n",
       "    .dataframe thead th {\n",
       "        text-align: right;\n",
       "    }\n",
       "</style>\n",
       "<table border=\"1\" class=\"dataframe\">\n",
       "  <thead>\n",
       "    <tr style=\"text-align: right;\">\n",
       "      <th></th>\n",
       "      <th>web_name</th>\n",
       "      <th>second_name</th>\n",
       "      <th>team_id</th>\n",
       "      <th>team_name</th>\n",
       "      <th>cost_now</th>\n",
       "      <th>goals_scored</th>\n",
       "      <th>goals_conceded</th>\n",
       "      <th>assists</th>\n",
       "      <th>total_points</th>\n",
       "      <th>minutes</th>\n",
       "      <th>creativity</th>\n",
       "      <th>influence</th>\n",
       "      <th>threat</th>\n",
       "      <th>bonus</th>\n",
       "      <th>bps</th>\n",
       "      <th>ict_index</th>\n",
       "      <th>clean_sheets</th>\n",
       "      <th>red_cards</th>\n",
       "      <th>yellow_cards</th>\n",
       "      <th>selected_by_percent</th>\n",
       "      <th>element_type</th>\n",
       "      <th>chance_of_playing_next_round</th>\n",
       "      <th>form</th>\n",
       "      <th>transfers_in</th>\n",
       "      <th>transfers_out</th>\n",
       "      <th>ROI</th>\n",
       "    </tr>\n",
       "  </thead>\n",
       "  <tbody>\n",
       "    <tr>\n",
       "      <th>2</th>\n",
       "      <td>David Luiz</td>\n",
       "      <td>Luiz Moreira Marinho</td>\n",
       "      <td>1</td>\n",
       "      <td>Arsenal</td>\n",
       "      <td>5.4</td>\n",
       "      <td>1</td>\n",
       "      <td>20</td>\n",
       "      <td>0</td>\n",
       "      <td>40</td>\n",
       "      <td>1344</td>\n",
       "      <td>45.2</td>\n",
       "      <td>244.6</td>\n",
       "      <td>123.0</td>\n",
       "      <td>0</td>\n",
       "      <td>223</td>\n",
       "      <td>41.0</td>\n",
       "      <td>3</td>\n",
       "      <td>1</td>\n",
       "      <td>1</td>\n",
       "      <td>0.8</td>\n",
       "      <td>2</td>\n",
       "      <td>75.0</td>\n",
       "      <td>0.0</td>\n",
       "      <td>76638</td>\n",
       "      <td>128854</td>\n",
       "      <td>7.407407</td>\n",
       "    </tr>\n",
       "    <tr>\n",
       "      <th>3</th>\n",
       "      <td>Aubameyang</td>\n",
       "      <td>Aubameyang</td>\n",
       "      <td>1</td>\n",
       "      <td>Arsenal</td>\n",
       "      <td>11.3</td>\n",
       "      <td>9</td>\n",
       "      <td>25</td>\n",
       "      <td>1</td>\n",
       "      <td>108</td>\n",
       "      <td>2007</td>\n",
       "      <td>292.4</td>\n",
       "      <td>428.2</td>\n",
       "      <td>731.0</td>\n",
       "      <td>10</td>\n",
       "      <td>306</td>\n",
       "      <td>144.9</td>\n",
       "      <td>7</td>\n",
       "      <td>0</td>\n",
       "      <td>2</td>\n",
       "      <td>6.6</td>\n",
       "      <td>3</td>\n",
       "      <td>75.0</td>\n",
       "      <td>0.5</td>\n",
       "      <td>1140296</td>\n",
       "      <td>3819584</td>\n",
       "      <td>9.557522</td>\n",
       "    </tr>\n",
       "    <tr>\n",
       "      <th>4</th>\n",
       "      <td>Cédric</td>\n",
       "      <td>Soares</td>\n",
       "      <td>1</td>\n",
       "      <td>Arsenal</td>\n",
       "      <td>4.6</td>\n",
       "      <td>0</td>\n",
       "      <td>11</td>\n",
       "      <td>1</td>\n",
       "      <td>28</td>\n",
       "      <td>744</td>\n",
       "      <td>114.8</td>\n",
       "      <td>110.8</td>\n",
       "      <td>66.0</td>\n",
       "      <td>3</td>\n",
       "      <td>125</td>\n",
       "      <td>29.2</td>\n",
       "      <td>2</td>\n",
       "      <td>0</td>\n",
       "      <td>1</td>\n",
       "      <td>0.3</td>\n",
       "      <td>2</td>\n",
       "      <td>100.0</td>\n",
       "      <td>0.0</td>\n",
       "      <td>40867</td>\n",
       "      <td>61252</td>\n",
       "      <td>6.086957</td>\n",
       "    </tr>\n",
       "    <tr>\n",
       "      <th>5</th>\n",
       "      <td>Lacazette</td>\n",
       "      <td>Lacazette</td>\n",
       "      <td>1</td>\n",
       "      <td>Arsenal</td>\n",
       "      <td>8.4</td>\n",
       "      <td>13</td>\n",
       "      <td>20</td>\n",
       "      <td>3</td>\n",
       "      <td>126</td>\n",
       "      <td>1864</td>\n",
       "      <td>303.5</td>\n",
       "      <td>598.2</td>\n",
       "      <td>797.0</td>\n",
       "      <td>21</td>\n",
       "      <td>446</td>\n",
       "      <td>169.6</td>\n",
       "      <td>7</td>\n",
       "      <td>0</td>\n",
       "      <td>3</td>\n",
       "      <td>5.5</td>\n",
       "      <td>4</td>\n",
       "      <td>75.0</td>\n",
       "      <td>4.2</td>\n",
       "      <td>1886049</td>\n",
       "      <td>1824887</td>\n",
       "      <td>15.000000</td>\n",
       "    </tr>\n",
       "    <tr>\n",
       "      <th>6</th>\n",
       "      <td>Mustafi</td>\n",
       "      <td>Mustafi</td>\n",
       "      <td>1</td>\n",
       "      <td>Arsenal</td>\n",
       "      <td>5.0</td>\n",
       "      <td>0</td>\n",
       "      <td>1</td>\n",
       "      <td>0</td>\n",
       "      <td>3</td>\n",
       "      <td>45</td>\n",
       "      <td>1.0</td>\n",
       "      <td>11.6</td>\n",
       "      <td>0.0</td>\n",
       "      <td>0</td>\n",
       "      <td>16</td>\n",
       "      <td>1.3</td>\n",
       "      <td>0</td>\n",
       "      <td>0</td>\n",
       "      <td>0</td>\n",
       "      <td>0.0</td>\n",
       "      <td>2</td>\n",
       "      <td>0.0</td>\n",
       "      <td>0.0</td>\n",
       "      <td>13464</td>\n",
       "      <td>14475</td>\n",
       "      <td>0.600000</td>\n",
       "    </tr>\n",
       "  </tbody>\n",
       "</table>\n",
       "</div>"
      ],
      "text/plain": [
       "     web_name           second_name  team_id team_name  cost_now  \\\n",
       "2  David Luiz  Luiz Moreira Marinho        1   Arsenal       5.4   \n",
       "3  Aubameyang            Aubameyang        1   Arsenal      11.3   \n",
       "4      Cédric                Soares        1   Arsenal       4.6   \n",
       "5   Lacazette             Lacazette        1   Arsenal       8.4   \n",
       "6     Mustafi               Mustafi        1   Arsenal       5.0   \n",
       "\n",
       "   goals_scored  goals_conceded  assists  total_points  minutes  creativity  \\\n",
       "2             1              20        0            40     1344        45.2   \n",
       "3             9              25        1           108     2007       292.4   \n",
       "4             0              11        1            28      744       114.8   \n",
       "5            13              20        3           126     1864       303.5   \n",
       "6             0               1        0             3       45         1.0   \n",
       "\n",
       "   influence  threat  bonus  bps  ict_index  clean_sheets  red_cards  \\\n",
       "2      244.6   123.0      0  223       41.0             3          1   \n",
       "3      428.2   731.0     10  306      144.9             7          0   \n",
       "4      110.8    66.0      3  125       29.2             2          0   \n",
       "5      598.2   797.0     21  446      169.6             7          0   \n",
       "6       11.6     0.0      0   16        1.3             0          0   \n",
       "\n",
       "   yellow_cards  selected_by_percent  element_type  \\\n",
       "2             1                  0.8             2   \n",
       "3             2                  6.6             3   \n",
       "4             1                  0.3             2   \n",
       "5             3                  5.5             4   \n",
       "6             0                  0.0             2   \n",
       "\n",
       "   chance_of_playing_next_round  form  transfers_in  transfers_out        ROI  \n",
       "2                          75.0   0.0         76638         128854   7.407407  \n",
       "3                          75.0   0.5       1140296        3819584   9.557522  \n",
       "4                         100.0   0.0         40867          61252   6.086957  \n",
       "5                          75.0   4.2       1886049        1824887  15.000000  \n",
       "6                           0.0   0.0         13464          14475   0.600000  "
      ]
     },
     "execution_count": 12,
     "metadata": {
      "tags": []
     },
     "output_type": "execute_result"
    }
   ],
   "source": [
    "# Building basic ROI for all players\n",
    "\n",
    "player_data['ROI'] = player_data['total_points']/player_data['cost_now']\n",
    "player_data.head()"
   ]
  },
  {
   "cell_type": "markdown",
   "metadata": {
    "id": "6MUTSDOrh-Ab"
   },
   "source": [
    "To give an example, let us look at the ROI for a player who has been doing really well this season, Harry Kane."
   ]
  },
  {
   "cell_type": "code",
   "execution_count": null,
   "metadata": {
    "colab": {
     "base_uri": "https://localhost:8080/"
    },
    "id": "IxWBYuayiAaK",
    "outputId": "f1c34b60-a0d1-4cd9-9828-6a8a5dbcaedb"
   },
   "outputs": [
    {
     "data": {
      "text/plain": [
       "557    18.474576\n",
       "Name: ROI, dtype: float64"
      ]
     },
     "execution_count": 13,
     "metadata": {
      "tags": []
     },
     "output_type": "execute_result"
    }
   ],
   "source": [
    "player_data[player_data['web_name'] == 'Kane'].ROI"
   ]
  },
  {
   "cell_type": "markdown",
   "metadata": {
    "id": "bvank_wDiAvG"
   },
   "source": [
    "We can see that this is an excellent ROI for Kane who has earned approximately 18.47 points per million he costs. Therefore, since we have to take into account budget and points, this approach will let us filter through candidates who are a good return for our budget. "
   ]
  },
  {
   "cell_type": "markdown",
   "metadata": {
    "id": "NoaAnGeyiBCH"
   },
   "source": [
    "### Holistic review"
   ]
  },
  {
   "cell_type": "markdown",
   "metadata": {
    "id": "pP4oMS6liBXx"
   },
   "source": [
    "Obviously there are players who are performing extremely well this season so let us highlight them by combing through various metrics. Let us see these few metrics:\n",
    "- Highest points scorers\n",
    "- Teams that have the highest points"
   ]
  },
  {
   "cell_type": "code",
   "execution_count": null,
   "metadata": {
    "collapsed": true,
    "id": "a930zoUzi9Ri"
   },
   "outputs": [],
   "source": [
    "# Building df for team analysis\n",
    "\n",
    "team_data = player_data.groupby('team_name',as_index=False).aggregate({'cost_now':np.sum,'total_points':np.sum,\n",
    "                                                                       'goals_scored':np.sum,'goals_conceded':np.sum,\n",
    "                                                                      'ROI':np.mean})\n"
   ]
  },
  {
   "cell_type": "code",
   "execution_count": null,
   "metadata": {
    "colab": {
     "base_uri": "https://localhost:8080/",
     "height": 445
    },
    "id": "Bc-oOWXai-VX",
    "outputId": "0b6b1a34-9392-49e7-f25a-84370a333f2c"
   },
   "outputs": [
    {
     "data": {
      "text/plain": [
       "array([<matplotlib.axes._subplots.AxesSubplot object at 0x7fe62d148c10>],\n",
       "      dtype=object)"
      ]
     },
     "execution_count": 15,
     "metadata": {
      "tags": []
     },
     "output_type": "execute_result"
    },
    {
     "data": {
      "image/png": "[encoded data removed]",
      "text/plain": [
       "<Figure size 1440x360 with 2 Axes>"
      ]
     },
     "metadata": {
      "needs_background": "light",
      "tags": []
     },
     "output_type": "display_data"
    }
   ],
   "source": [
    "#Plots of Total points for top 15 players and teams\n",
    "\n",
    "fig,ax = plt.subplots(nrows=1,ncols=2,figsize=(20,5))\n",
    "player_data.sort_values('total_points',ascending=False)[:15].plot.bar(ax=ax[0],\n",
    "                                                                      x='web_name',y='total_points',subplots=True)\n",
    "\n",
    "team_data.sort_values('total_points',ascending=False).plot.bar(ax=ax[1],\n",
    "                                                                      x='team_name',y=['total_points'],subplots=True,color='r')\n"
   ]
  },
  {
   "cell_type": "markdown",
   "metadata": {
    "id": "VjB4sIEjjEM6"
   },
   "source": [
    "As we see, the top 15 players by points are ideally good picks for our team. It shows that they are consistent with their performance. Ideally they would be good picks for the team, but we can also point out the ROIs to make better comparisons. "
   ]
  },
  {
   "cell_type": "code",
   "execution_count": null,
   "metadata": {
    "colab": {
     "base_uri": "https://localhost:8080/",
     "height": 445
    },
    "id": "keZ5vYKXjHjW",
    "outputId": "99780532-0768-45c9-c851-3de8e7f30930"
   },
   "outputs": [
    {
     "data": {
      "text/plain": [
       "array([<matplotlib.axes._subplots.AxesSubplot object at 0x7fe62cab5690>],\n",
       "      dtype=object)"
      ]
     },
     "execution_count": 16,
     "metadata": {
      "tags": []
     },
     "output_type": "execute_result"
    },
    {
     "data": {
      "image/png": "[encoded data removed]",
      "text/plain": [
       "<Figure size 1440x360 with 2 Axes>"
      ]
     },
     "metadata": {
      "needs_background": "light",
      "tags": []
     },
     "output_type": "display_data"
    }
   ],
   "source": [
    "# Plots of ROI for top 15 players and teams\n",
    "fig,ax = plt.subplots(nrows=1,ncols=2,figsize=(20,5))\n",
    "player_data.sort_values('ROI',ascending=False)[:15].plot.bar(ax=ax[0],\n",
    "                                                                      x='web_name',y='ROI',subplots=True)\n",
    "\n",
    "team_data.sort_values('ROI',ascending=False).plot.bar(ax=ax[1],\n",
    "                                                                      x='team_name',y='ROI',subplots=True,color='r')\n",
    "\n"
   ]
  },
  {
   "cell_type": "markdown",
   "metadata": {
    "id": "C7XeHfVxjNOY"
   },
   "source": [
    "AHA! As we can see now, the ROI gives us way more valuable information. Since we are working on a budget, this information leads us to better picks we can make for our team. \n",
    "\n",
    "We can see now, that compared to just analyzing total points, an ROI evaluation tells us that Leeds players and Aston Villa players are usually undervalued, whereas Leicester, Liverpool, and Spurs players are slightly more overvalued than the benefit they give. \n",
    "\n",
    "Similarly, we can also do an analysis by position."
   ]
  },
  {
   "cell_type": "code",
   "execution_count": null,
   "metadata": {
    "colab": {
     "base_uri": "https://localhost:8080/",
     "height": 167
    },
    "id": "f9lbzF5BjIuc",
    "outputId": "44524e33-3bcf-4e7c-d516-e06cad18d0d3"
   },
   "outputs": [
    {
     "data": {
      "text/html": [
       "<div>\n",
       "<style scoped>\n",
       "    .dataframe tbody tr th:only-of-type {\n",
       "        vertical-align: middle;\n",
       "    }\n",
       "\n",
       "    .dataframe tbody tr th {\n",
       "        vertical-align: top;\n",
       "    }\n",
       "\n",
       "    .dataframe thead th {\n",
       "        text-align: right;\n",
       "    }\n",
       "</style>\n",
       "<table border=\"1\" class=\"dataframe\">\n",
       "  <thead>\n",
       "    <tr style=\"text-align: right;\">\n",
       "      <th></th>\n",
       "      <th>element_type</th>\n",
       "      <th>ROI</th>\n",
       "      <th>cost_now</th>\n",
       "      <th>total_points</th>\n",
       "    </tr>\n",
       "  </thead>\n",
       "  <tbody>\n",
       "    <tr>\n",
       "      <th>0</th>\n",
       "      <td>1</td>\n",
       "      <td>13.068227</td>\n",
       "      <td>4.744737</td>\n",
       "      <td>2494</td>\n",
       "    </tr>\n",
       "    <tr>\n",
       "      <th>1</th>\n",
       "      <td>2</td>\n",
       "      <td>10.008154</td>\n",
       "      <td>4.727568</td>\n",
       "      <td>9102</td>\n",
       "    </tr>\n",
       "    <tr>\n",
       "      <th>2</th>\n",
       "      <td>3</td>\n",
       "      <td>9.420759</td>\n",
       "      <td>5.593868</td>\n",
       "      <td>11687</td>\n",
       "    </tr>\n",
       "    <tr>\n",
       "      <th>3</th>\n",
       "      <td>4</td>\n",
       "      <td>8.043804</td>\n",
       "      <td>6.123288</td>\n",
       "      <td>3896</td>\n",
       "    </tr>\n",
       "  </tbody>\n",
       "</table>\n",
       "</div>"
      ],
      "text/plain": [
       "   element_type        ROI  cost_now  total_points\n",
       "0             1  13.068227  4.744737          2494\n",
       "1             2  10.008154  4.727568          9102\n",
       "2             3   9.420759  5.593868         11687\n",
       "3             4   8.043804  6.123288          3896"
      ]
     },
     "execution_count": 17,
     "metadata": {
      "tags": []
     },
     "output_type": "execute_result"
    }
   ],
   "source": [
    "# Creating df by position metrics\n",
    "position_data = player_data.groupby('element_type',as_index=False).aggregate({'ROI':np.mean,'cost_now':np.mean,\n",
    "                                                                              'total_points':np.sum})\n",
    "position_data"
   ]
  },
  {
   "cell_type": "markdown",
   "metadata": {
    "id": "m-r50GnRjTF4"
   },
   "source": [
    "Goalkeepers are currently returning the most points, but they also make up a much smaller fraction of a teams points total. As a lot of goalkeepers in the game play 0 minutes, they won’t be accounted for here (as their value = 0). Outfield players will pick up 1 point if subbed on with 5 or 10 minutes to go, pulling average value down.\n",
    "\n",
    "This makes sense, as when we look at the ROI plot of all players above, the top 2 are both Goalkeepers, Meslier and Martínez. Further, contrary to what I believed that defenders would earn on average lesser points than forwards, data shows that midfielders earn the mode points among other players, and that defenders were valued higher than expected. \n",
    "\n",
    "What this data also shows us is very important. It gives us news on what 11 players we choose to play in the starting team. "
   ]
  },
  {
   "cell_type": "markdown",
   "metadata": {
    "id": "LbwSz-0JjI2t"
   },
   "source": [
    "### Some helper functions"
   ]
  },
  {
   "cell_type": "code",
   "execution_count": null,
   "metadata": {
    "collapsed": true,
    "id": "B-Q6OUaojeRX"
   },
   "outputs": [],
   "source": [
    "def build_bar_plot(data):\n",
    "    '''\n",
    "    This function builds horizontal bar graphs of total points and ROI of the top 15 players given the required data.\n",
    "    '''\n",
    "    fig,ax = plt.subplots(nrows=1,ncols=2,figsize=(18,6))\n",
    "    data.sort_values('total_points',ascending=False)[:15].plot.barh(ax=ax[0],\n",
    "                                                                    x='web_name',y='total_points',subplots=True)\n",
    "\n",
    "    data.sort_values('ROI',ascending=False)[:15].plot.barh(ax=ax[1],\n",
    "                                                      x='web_name',y='ROI',subplots=True,color='r')\n",
    "\n",
    "\n",
    "    \n",
    "def build_scatter_comparison(data,x,y,position):\n",
    "    \n",
    "    '''\n",
    "    The function builds an annotated scatter plot with 2 variables for comparison as input. \n",
    "    The position argument titles the plot with respect to the position.\n",
    "    '''\n",
    "    fig,ax = plt.subplots(figsize = (17,10))\n",
    "    ax.scatter(data[x],data[y])\n",
    "    for i, txt in enumerate(data.web_name):\n",
    "        ax.annotate(txt, (data[x].iat[i],data[y].iat[i]))\n",
    "    \n",
    "    ax.set_title(str(position) + ' ' + str(x) + ' vs. ' + str(y) + ' comparison')\n",
    "    ax.set_xlabel(str(x))\n",
    "    ax.set_ylabel(str(y))  \n",
    "    \n",
    "\n",
    "\n",
    "def build_sorted_scatter_comparison(data,x,y,position):\n",
    "    \n",
    "    '''\n",
    "    This function builds a similar annotated scatter plot for the top 30 players filtered\n",
    "    by total points earned. \n",
    "    \n",
    "    '''\n",
    "    fig,ax = plt.subplots(figsize = (17,10))\n",
    "    ax.scatter(data.sort_values('total_points',ascending=False)[['web_name',x,y]][:30][x],\n",
    "               data.sort_values('total_points',ascending=False)[['web_name',x,y]][:30][y])\n",
    "\n",
    "    for i, txt in enumerate(data.sort_values('total_points',ascending=False)[['web_name','total_points']][:30].web_name):\n",
    "        ax.annotate(txt, (data.sort_values('total_points',ascending=False)[['web_name',x,y]][:30][x].iat[i],\n",
    "                          data.sort_values('total_points',ascending=False)[['web_name',x,y]][:30][y].iat[i]))\n",
    "\n",
    "    ax.set_title('Top 30 ' + str(position) + ' ' + str(x) + ' vs. ' + str(y) + ' comparison')\n",
    "    ax.set_xlabel(str(x))\n",
    "    ax.set_ylabel(str(y))\n",
    "\n",
    "\n",
    "def get_cost(data,players):\n",
    "    \n",
    "    '''\n",
    "    Given a list of players, this function outputs the total combined of all the players inputted.\n",
    "    '''\n",
    "    return data[data['web_name'].isin(players)].cost_now.sum()\n"
   ]
  },
  {
   "cell_type": "markdown",
   "metadata": {
    "id": "OJjnBSIFjSQD"
   },
   "source": [
    "## Goalkeepers\n"
   ]
  },
  {
   "cell_type": "code",
   "execution_count": null,
   "metadata": {
    "colab": {
     "base_uri": "https://localhost:8080/",
     "height": 217
    },
    "id": "w_TLKAOkjI8_",
    "outputId": "feaf46fd-7a67-4732-cba4-f3124f93626a"
   },
   "outputs": [
    {
     "data": {
      "text/html": [
       "<div>\n",
       "<style scoped>\n",
       "    .dataframe tbody tr th:only-of-type {\n",
       "        vertical-align: middle;\n",
       "    }\n",
       "\n",
       "    .dataframe tbody tr th {\n",
       "        vertical-align: top;\n",
       "    }\n",
       "\n",
       "    .dataframe thead th {\n",
       "        text-align: right;\n",
       "    }\n",
       "</style>\n",
       "<table border=\"1\" class=\"dataframe\">\n",
       "  <thead>\n",
       "    <tr style=\"text-align: right;\">\n",
       "      <th></th>\n",
       "      <th>web_name</th>\n",
       "      <th>second_name</th>\n",
       "      <th>team_id</th>\n",
       "      <th>team_name</th>\n",
       "      <th>cost_now</th>\n",
       "      <th>goals_scored</th>\n",
       "      <th>goals_conceded</th>\n",
       "      <th>assists</th>\n",
       "      <th>total_points</th>\n",
       "      <th>minutes</th>\n",
       "      <th>creativity</th>\n",
       "      <th>influence</th>\n",
       "      <th>threat</th>\n",
       "      <th>bonus</th>\n",
       "      <th>bps</th>\n",
       "      <th>ict_index</th>\n",
       "      <th>clean_sheets</th>\n",
       "      <th>red_cards</th>\n",
       "      <th>yellow_cards</th>\n",
       "      <th>selected_by_percent</th>\n",
       "      <th>element_type</th>\n",
       "      <th>chance_of_playing_next_round</th>\n",
       "      <th>form</th>\n",
       "      <th>transfers_in</th>\n",
       "      <th>transfers_out</th>\n",
       "      <th>ROI</th>\n",
       "    </tr>\n",
       "  </thead>\n",
       "  <tbody>\n",
       "    <tr>\n",
       "      <th>328</th>\n",
       "      <td>Meslier</td>\n",
       "      <td>Meslier</td>\n",
       "      <td>10</td>\n",
       "      <td>Leeds</td>\n",
       "      <td>4.7</td>\n",
       "      <td>0</td>\n",
       "      <td>49</td>\n",
       "      <td>0</td>\n",
       "      <td>143</td>\n",
       "      <td>2880</td>\n",
       "      <td>10.0</td>\n",
       "      <td>954.2</td>\n",
       "      <td>0.0</td>\n",
       "      <td>20</td>\n",
       "      <td>715</td>\n",
       "      <td>96.5</td>\n",
       "      <td>10</td>\n",
       "      <td>0</td>\n",
       "      <td>0</td>\n",
       "      <td>7.2</td>\n",
       "      <td>1</td>\n",
       "      <td>100.0</td>\n",
       "      <td>4.5</td>\n",
       "      <td>1043329</td>\n",
       "      <td>625453</td>\n",
       "      <td>30.425532</td>\n",
       "    </tr>\n",
       "    <tr>\n",
       "      <th>34</th>\n",
       "      <td>Martínez</td>\n",
       "      <td>Martínez</td>\n",
       "      <td>2</td>\n",
       "      <td>Aston Villa</td>\n",
       "      <td>5.4</td>\n",
       "      <td>0</td>\n",
       "      <td>37</td>\n",
       "      <td>0</td>\n",
       "      <td>164</td>\n",
       "      <td>2880</td>\n",
       "      <td>20.0</td>\n",
       "      <td>878.4</td>\n",
       "      <td>0.0</td>\n",
       "      <td>24</td>\n",
       "      <td>710</td>\n",
       "      <td>89.6</td>\n",
       "      <td>14</td>\n",
       "      <td>0</td>\n",
       "      <td>0</td>\n",
       "      <td>40.2</td>\n",
       "      <td>1</td>\n",
       "      <td>NaN</td>\n",
       "      <td>2.8</td>\n",
       "      <td>3959985</td>\n",
       "      <td>1508730</td>\n",
       "      <td>30.370370</td>\n",
       "    </tr>\n",
       "    <tr>\n",
       "      <th>598</th>\n",
       "      <td>Johnstone</td>\n",
       "      <td>Johnstone</td>\n",
       "      <td>18</td>\n",
       "      <td>West Brom</td>\n",
       "      <td>4.5</td>\n",
       "      <td>0</td>\n",
       "      <td>62</td>\n",
       "      <td>1</td>\n",
       "      <td>124</td>\n",
       "      <td>2880</td>\n",
       "      <td>10.0</td>\n",
       "      <td>1006.4</td>\n",
       "      <td>0.0</td>\n",
       "      <td>17</td>\n",
       "      <td>670</td>\n",
       "      <td>101.6</td>\n",
       "      <td>6</td>\n",
       "      <td>0</td>\n",
       "      <td>0</td>\n",
       "      <td>3.0</td>\n",
       "      <td>1</td>\n",
       "      <td>NaN</td>\n",
       "      <td>7.0</td>\n",
       "      <td>487912</td>\n",
       "      <td>331092</td>\n",
       "      <td>27.555556</td>\n",
       "    </tr>\n",
       "    <tr>\n",
       "      <th>265</th>\n",
       "      <td>Areola</td>\n",
       "      <td>Areola</td>\n",
       "      <td>8</td>\n",
       "      <td>Fulham</td>\n",
       "      <td>4.6</td>\n",
       "      <td>0</td>\n",
       "      <td>40</td>\n",
       "      <td>0</td>\n",
       "      <td>115</td>\n",
       "      <td>2880</td>\n",
       "      <td>0.0</td>\n",
       "      <td>770.8</td>\n",
       "      <td>0.0</td>\n",
       "      <td>8</td>\n",
       "      <td>573</td>\n",
       "      <td>76.9</td>\n",
       "      <td>9</td>\n",
       "      <td>0</td>\n",
       "      <td>1</td>\n",
       "      <td>4.7</td>\n",
       "      <td>1</td>\n",
       "      <td>NaN</td>\n",
       "      <td>1.7</td>\n",
       "      <td>586450</td>\n",
       "      <td>347870</td>\n",
       "      <td>25.000000</td>\n",
       "    </tr>\n",
       "    <tr>\n",
       "      <th>125</th>\n",
       "      <td>Pope</td>\n",
       "      <td>Pope</td>\n",
       "      <td>4</td>\n",
       "      <td>Burnley</td>\n",
       "      <td>5.5</td>\n",
       "      <td>0</td>\n",
       "      <td>35</td>\n",
       "      <td>0</td>\n",
       "      <td>136</td>\n",
       "      <td>2700</td>\n",
       "      <td>20.0</td>\n",
       "      <td>801.6</td>\n",
       "      <td>0.0</td>\n",
       "      <td>20</td>\n",
       "      <td>609</td>\n",
       "      <td>82.1</td>\n",
       "      <td>10</td>\n",
       "      <td>0</td>\n",
       "      <td>1</td>\n",
       "      <td>10.9</td>\n",
       "      <td>1</td>\n",
       "      <td>100.0</td>\n",
       "      <td>2.0</td>\n",
       "      <td>1042798</td>\n",
       "      <td>1388033</td>\n",
       "      <td>24.727273</td>\n",
       "    </tr>\n",
       "  </tbody>\n",
       "</table>\n",
       "</div>"
      ],
      "text/plain": [
       "      web_name second_name  team_id    team_name  cost_now  goals_scored  \\\n",
       "328    Meslier     Meslier       10        Leeds       4.7             0   \n",
       "34    Martínez    Martínez        2  Aston Villa       5.4             0   \n",
       "598  Johnstone   Johnstone       18    West Brom       4.5             0   \n",
       "265     Areola      Areola        8       Fulham       4.6             0   \n",
       "125       Pope        Pope        4      Burnley       5.5             0   \n",
       "\n",
       "     goals_conceded  assists  total_points  minutes  creativity  influence  \\\n",
       "328              49        0           143     2880        10.0      954.2   \n",
       "34               37        0           164     2880        20.0      878.4   \n",
       "598              62        1           124     2880        10.0     1006.4   \n",
       "265              40        0           115     2880         0.0      770.8   \n",
       "125              35        0           136     2700        20.0      801.6   \n",
       "\n",
       "     threat  bonus  bps  ict_index  clean_sheets  red_cards  yellow_cards  \\\n",
       "328     0.0     20  715       96.5            10          0             0   \n",
       "34      0.0     24  710       89.6            14          0             0   \n",
       "598     0.0     17  670      101.6             6          0             0   \n",
       "265     0.0      8  573       76.9             9          0             1   \n",
       "125     0.0     20  609       82.1            10          0             1   \n",
       "\n",
       "     selected_by_percent  element_type  chance_of_playing_next_round  form  \\\n",
       "328                  7.2             1                         100.0   4.5   \n",
       "34                  40.2             1                           NaN   2.8   \n",
       "598                  3.0             1                           NaN   7.0   \n",
       "265                  4.7             1                           NaN   1.7   \n",
       "125                 10.9             1                         100.0   2.0   \n",
       "\n",
       "     transfers_in  transfers_out        ROI  \n",
       "328       1043329         625453  30.425532  \n",
       "34        3959985        1508730  30.370370  \n",
       "598        487912         331092  27.555556  \n",
       "265        586450         347870  25.000000  \n",
       "125       1042798        1388033  24.727273  "
      ]
     },
     "execution_count": 19,
     "metadata": {
      "tags": []
     },
     "output_type": "execute_result"
    }
   ],
   "source": [
    "# Creating Goalkeeper df\n",
    "GK_data = player_data[player_data['element_type'] == 1]\n",
    "\n",
    "#basic statistics\n",
    "GK_data.sort_values('ROI',ascending = False)[:5]"
   ]
  },
  {
   "cell_type": "code",
   "execution_count": null,
   "metadata": {
    "colab": {
     "base_uri": "https://localhost:8080/",
     "height": 622
    },
    "id": "cryV8T2Ejqe3",
    "outputId": "00da1d86-beb9-49d6-c476-002fdfa31b01"
   },
   "outputs": [
    {
     "data": {
      "image/png": "[encoded data removed]",
      "text/plain": [
       "<Figure size 1224x720 with 1 Axes>"
      ]
     },
     "metadata": {
      "needs_background": "light",
      "tags": []
     },
     "output_type": "display_data"
    }
   ],
   "source": [
    "# Plot of Goalkeeper cost (in millions) vs. points\n",
    "\n",
    "build_scatter_comparison(GK_data, 'cost_now', 'total_points', 'Goalkeepers')"
   ]
  },
  {
   "cell_type": "markdown",
   "metadata": {
    "id": "aDUq3V9jjlMI"
   },
   "source": [
    "We can clearly see the top few goalkeepers are pretty much a standard choice. Martínez, Meslier, and Pope are solid choices right now for goalkeepers. Further, for a more budget choice, Meslier and Johnstone are great choices. Lets see if we can explore this more."
   ]
  },
  {
   "cell_type": "code",
   "execution_count": null,
   "metadata": {
    "colab": {
     "base_uri": "https://localhost:8080/",
     "height": 197
    },
    "id": "psvcoyNEjvv3",
    "outputId": "7a2ed968-41e6-4484-8fce-8bdb55734ea1"
   },
   "outputs": [
    {
     "data": {
      "text/html": [
       "<div>\n",
       "<style scoped>\n",
       "    .dataframe tbody tr th:only-of-type {\n",
       "        vertical-align: middle;\n",
       "    }\n",
       "\n",
       "    .dataframe tbody tr th {\n",
       "        vertical-align: top;\n",
       "    }\n",
       "\n",
       "    .dataframe thead th {\n",
       "        text-align: right;\n",
       "    }\n",
       "</style>\n",
       "<table border=\"1\" class=\"dataframe\">\n",
       "  <thead>\n",
       "    <tr style=\"text-align: right;\">\n",
       "      <th></th>\n",
       "      <th>web_name</th>\n",
       "      <th>selected_by_percent</th>\n",
       "    </tr>\n",
       "  </thead>\n",
       "  <tbody>\n",
       "    <tr>\n",
       "      <th>34</th>\n",
       "      <td>Martínez</td>\n",
       "      <td>40.2</td>\n",
       "    </tr>\n",
       "    <tr>\n",
       "      <th>520</th>\n",
       "      <td>McCarthy</td>\n",
       "      <td>11.3</td>\n",
       "    </tr>\n",
       "    <tr>\n",
       "      <th>125</th>\n",
       "      <td>Pope</td>\n",
       "      <td>10.9</td>\n",
       "    </tr>\n",
       "    <tr>\n",
       "      <th>165</th>\n",
       "      <td>Mendy</td>\n",
       "      <td>10.3</td>\n",
       "    </tr>\n",
       "    <tr>\n",
       "      <th>275</th>\n",
       "      <td>Schmeichel</td>\n",
       "      <td>10.2</td>\n",
       "    </tr>\n",
       "  </tbody>\n",
       "</table>\n",
       "</div>"
      ],
      "text/plain": [
       "       web_name  selected_by_percent\n",
       "34     Martínez                 40.2\n",
       "520    McCarthy                 11.3\n",
       "125        Pope                 10.9\n",
       "165       Mendy                 10.3\n",
       "275  Schmeichel                 10.2"
      ]
     },
     "execution_count": 21,
     "metadata": {
      "tags": []
     },
     "output_type": "execute_result"
    }
   ],
   "source": [
    "# Analyzing selection percent \n",
    "GK_data[['web_name','selected_by_percent']].sort_values('selected_by_percent',ascending = False)[:5]"
   ]
  },
  {
   "cell_type": "markdown",
   "metadata": {
    "id": "79wpAMizjzw6"
   },
   "source": [
    "Surprising! McCarthy is selected by **11.3** percent but is no where near the top of the charts in ROI and points vs. cost comparisons. Further, a staggering **40.2 %** of people have chosen Martínez, a no brainer. "
   ]
  },
  {
   "cell_type": "code",
   "execution_count": null,
   "metadata": {
    "colab": {
     "base_uri": "https://localhost:8080/",
     "height": 622
    },
    "id": "cujJfsiVj2mA",
    "outputId": "cbcc0c07-2e39-4495-d1d7-d7cf70a11800"
   },
   "outputs": [
    {
     "data": {
      "image/png": "[encoded data removed]",
      "text/plain": [
       "<Figure size 1224x720 with 1 Axes>"
      ]
     },
     "metadata": {
      "needs_background": "light",
      "tags": []
     },
     "output_type": "display_data"
    }
   ],
   "source": [
    "# GK clean sheets vs points (Clean sheet implies that there were no goals conceded that match by the Defence or GK)\n",
    "\n",
    "build_scatter_comparison(GK_data, 'clean_sheets','total_points','Goalkeepers')"
   ]
  },
  {
   "cell_type": "markdown",
   "metadata": {
    "id": "CpqIygLLj7Tw"
   },
   "source": [
    "Naturally, we expected a linear trend, the more clean sheets a goalie has, the more points he gets, but we have an outlier of Martínez who definitely takes the lead in points but not the lead in clean sheets. This means he must make many crucial saves to get those additional points but still ends up conceding goals from time to time. Maybe this suggests a lacking defence... let us see in the next section. "
   ]
  },
  {
   "cell_type": "markdown",
   "metadata": {
    "id": "5rWh1B4-j2qq"
   },
   "source": [
    "**Final conclusion:**\n",
    "\n",
    "We shall pick the best 2 based on ROI : <font size=\"4\">**Martínez , Meslier** </font>"
   ]
  },
  {
   "cell_type": "code",
   "execution_count": null,
   "metadata": {
    "colab": {
     "base_uri": "https://localhost:8080/"
    },
    "id": "M0NPOutdj2ve",
    "outputId": "8088ae61-eb6a-4b46-a277-6699c10388bb"
   },
   "outputs": [
    {
     "name": "stdout",
     "output_type": "stream",
     "text": [
      "10.100000000000001\n"
     ]
    }
   ],
   "source": [
    "# finding cost of goalkeepers\n",
    "\n",
    "players = ['Martínez','Meslier']\n",
    "print(get_cost(GK_data,players))"
   ]
  },
  {
   "cell_type": "markdown",
   "metadata": {
    "id": "oX7VvZhFkJiS"
   },
   "source": [
    "**Total cost** = 10.1 million"
   ]
  },
  {
   "cell_type": "markdown",
   "metadata": {
    "id": "u4_2Ae3LkSIh"
   },
   "source": [
    "## Defenders"
   ]
  },
  {
   "cell_type": "markdown",
   "metadata": {
    "id": "raRVeoCYkTaE"
   },
   "source": [
    "Similar to the Goalkeepers, Defenders are one of the most important selections to make this season. Not only do they get points for clean sheets, they have attacking and assisting possibilities as well to earn them more points."
   ]
  },
  {
   "cell_type": "code",
   "execution_count": null,
   "metadata": {
    "colab": {
     "base_uri": "https://localhost:8080/",
     "height": 287
    },
    "id": "0ri_0PZ2kTiT",
    "outputId": "0b30f8c1-bdf9-4637-8480-83a231b28fd0"
   },
   "outputs": [
    {
     "data": {
      "text/html": [
       "<div>\n",
       "<style scoped>\n",
       "    .dataframe tbody tr th:only-of-type {\n",
       "        vertical-align: middle;\n",
       "    }\n",
       "\n",
       "    .dataframe tbody tr th {\n",
       "        vertical-align: top;\n",
       "    }\n",
       "\n",
       "    .dataframe thead th {\n",
       "        text-align: right;\n",
       "    }\n",
       "</style>\n",
       "<table border=\"1\" class=\"dataframe\">\n",
       "  <thead>\n",
       "    <tr style=\"text-align: right;\">\n",
       "      <th></th>\n",
       "      <th>cost_now</th>\n",
       "      <th>goals_conceded</th>\n",
       "      <th>total_points</th>\n",
       "      <th>ict_index</th>\n",
       "      <th>clean_sheets</th>\n",
       "      <th>selected_by_percent</th>\n",
       "      <th>ROI</th>\n",
       "    </tr>\n",
       "  </thead>\n",
       "  <tbody>\n",
       "    <tr>\n",
       "      <th>count</th>\n",
       "      <td>185.000000</td>\n",
       "      <td>185.000000</td>\n",
       "      <td>185.000000</td>\n",
       "      <td>185.000000</td>\n",
       "      <td>185.000000</td>\n",
       "      <td>185.000000</td>\n",
       "      <td>185.000000</td>\n",
       "    </tr>\n",
       "    <tr>\n",
       "      <th>mean</th>\n",
       "      <td>4.727568</td>\n",
       "      <td>19.724324</td>\n",
       "      <td>49.200000</td>\n",
       "      <td>50.934054</td>\n",
       "      <td>4.372973</td>\n",
       "      <td>2.649730</td>\n",
       "      <td>10.008154</td>\n",
       "    </tr>\n",
       "    <tr>\n",
       "      <th>std</th>\n",
       "      <td>0.631378</td>\n",
       "      <td>13.794482</td>\n",
       "      <td>38.367757</td>\n",
       "      <td>41.208220</td>\n",
       "      <td>3.912956</td>\n",
       "      <td>4.525881</td>\n",
       "      <td>7.353740</td>\n",
       "    </tr>\n",
       "    <tr>\n",
       "      <th>min</th>\n",
       "      <td>3.800000</td>\n",
       "      <td>0.000000</td>\n",
       "      <td>-3.000000</td>\n",
       "      <td>0.000000</td>\n",
       "      <td>0.000000</td>\n",
       "      <td>0.000000</td>\n",
       "      <td>-0.750000</td>\n",
       "    </tr>\n",
       "    <tr>\n",
       "      <th>25%</th>\n",
       "      <td>4.300000</td>\n",
       "      <td>9.000000</td>\n",
       "      <td>15.000000</td>\n",
       "      <td>16.100000</td>\n",
       "      <td>1.000000</td>\n",
       "      <td>0.200000</td>\n",
       "      <td>3.255814</td>\n",
       "    </tr>\n",
       "    <tr>\n",
       "      <th>50%</th>\n",
       "      <td>4.600000</td>\n",
       "      <td>18.000000</td>\n",
       "      <td>43.000000</td>\n",
       "      <td>43.900000</td>\n",
       "      <td>3.000000</td>\n",
       "      <td>0.800000</td>\n",
       "      <td>9.024390</td>\n",
       "    </tr>\n",
       "    <tr>\n",
       "      <th>75%</th>\n",
       "      <td>5.000000</td>\n",
       "      <td>31.000000</td>\n",
       "      <td>81.000000</td>\n",
       "      <td>74.100000</td>\n",
       "      <td>8.000000</td>\n",
       "      <td>2.700000</td>\n",
       "      <td>16.136364</td>\n",
       "    </tr>\n",
       "    <tr>\n",
       "      <th>max</th>\n",
       "      <td>7.600000</td>\n",
       "      <td>59.000000</td>\n",
       "      <td>148.000000</td>\n",
       "      <td>201.900000</td>\n",
       "      <td>16.000000</td>\n",
       "      <td>26.900000</td>\n",
       "      <td>27.924528</td>\n",
       "    </tr>\n",
       "  </tbody>\n",
       "</table>\n",
       "</div>"
      ],
      "text/plain": [
       "         cost_now  goals_conceded  total_points   ict_index  clean_sheets  \\\n",
       "count  185.000000      185.000000    185.000000  185.000000    185.000000   \n",
       "mean     4.727568       19.724324     49.200000   50.934054      4.372973   \n",
       "std      0.631378       13.794482     38.367757   41.208220      3.912956   \n",
       "min      3.800000        0.000000     -3.000000    0.000000      0.000000   \n",
       "25%      4.300000        9.000000     15.000000   16.100000      1.000000   \n",
       "50%      4.600000       18.000000     43.000000   43.900000      3.000000   \n",
       "75%      5.000000       31.000000     81.000000   74.100000      8.000000   \n",
       "max      7.600000       59.000000    148.000000  201.900000     16.000000   \n",
       "\n",
       "       selected_by_percent         ROI  \n",
       "count           185.000000  185.000000  \n",
       "mean              2.649730   10.008154  \n",
       "std               4.525881    7.353740  \n",
       "min               0.000000   -0.750000  \n",
       "25%               0.200000    3.255814  \n",
       "50%               0.800000    9.024390  \n",
       "75%               2.700000   16.136364  \n",
       "max              26.900000   27.924528  "
      ]
     },
     "execution_count": 24,
     "metadata": {
      "tags": []
     },
     "output_type": "execute_result"
    }
   ],
   "source": [
    "# Creating Defenders df\n",
    "DEF_data = player_data[player_data['element_type'] == 2]\n",
    "\n",
    "#basic statistics\n",
    "DEF_data[['cost_now','goals_conceded','total_points','ict_index','clean_sheets','selected_by_percent','ROI']].describe()"
   ]
  },
  {
   "cell_type": "code",
   "execution_count": null,
   "metadata": {
    "colab": {
     "base_uri": "https://localhost:8080/",
     "height": 390
    },
    "id": "A3Z9KCLlkT03",
    "outputId": "5f136dd5-df47-404c-deb2-ee01c1ab5bb5"
   },
   "outputs": [
    {
     "data": {
      "image/png": "[encoded data removed]",
      "text/plain": [
       "<Figure size 1296x432 with 2 Axes>"
      ]
     },
     "metadata": {
      "needs_background": "light",
      "tags": []
     },
     "output_type": "display_data"
    }
   ],
   "source": [
    "# Defending visualizations\n",
    "build_bar_plot(DEF_data)"
   ]
  },
  {
   "cell_type": "markdown",
   "metadata": {
    "id": "Tt2KfexWkdUF"
   },
   "source": [
    "Interesting! Other than a select few, there are a lot of differences between players who have the most points and players who have the highest ROI. Further we also have a low average cost of a Defender (4.73) with a high ROI (~10).\n",
    "\n",
    "One of the few criterias that are not as useful for Goalkeepers but more useful for outfield players is the ICT index. This represents the Index,Creativity, and Threat scores per player calculated by the Premier League. \n",
    "\n",
    "Just because some players are a little more expensive, the penalty by the ROI model ranks them much lower. For example, Dias, Robertson, and Alexander-Arnold are all in the top 6 in terms of total points this season, but as we know players from Liverpool F.C.(Robertson and Arnold) are much more expensive. This does not mean they are necessarily bad picks, in fact, Dias is just slightly more expensive but has much more points than Dunk for example. \n",
    "\n",
    "Let us try to visualize this using a Cost (in millions) vs. Total points scatter using 30 defenders."
   ]
  },
  {
   "cell_type": "code",
   "execution_count": null,
   "metadata": {
    "colab": {
     "base_uri": "https://localhost:8080/",
     "height": 622
    },
    "id": "vsb1oJVMkdcU",
    "outputId": "854f5810-d347-4d38-9acf-49e62362ae75"
   },
   "outputs": [
    {
     "data": {
      "image/png": "[encoded data removed]",
      "text/plain": [
       "<Figure size 1224x720 with 1 Axes>"
      ]
     },
     "metadata": {
      "needs_background": "light",
      "tags": []
     },
     "output_type": "display_data"
    }
   ],
   "source": [
    "# Defender Cost vs. points comparison\n",
    "\n",
    "build_sorted_scatter_comparison(DEF_data, 'cost_now','total_points','Defenders')"
   ]
  },
  {
   "cell_type": "markdown",
   "metadata": {
    "id": "NDhl-mxNkdgg"
   },
   "source": [
    "Similarly, let us try and visualize the ICT scores vs. the cost to see if we get any new information. "
   ]
  },
  {
   "cell_type": "code",
   "execution_count": null,
   "metadata": {
    "colab": {
     "base_uri": "https://localhost:8080/",
     "height": 622
    },
    "id": "-8AqHEEpkdkh",
    "outputId": "6156b4ad-c764-41d0-aa87-fc734cb5ff06"
   },
   "outputs": [
    {
     "data": {
      "image/png": "[encoded data removed]",
      "text/plain": [
       "<Figure size 1224x720 with 1 Axes>"
      ]
     },
     "metadata": {
      "needs_background": "light",
      "tags": []
     },
     "output_type": "display_data"
    }
   ],
   "source": [
    "# Defenders ICT Scores vs Cost\n",
    "\n",
    "build_sorted_scatter_comparison(DEF_data, 'ict_index','cost_now','Defenders')"
   ]
  },
  {
   "cell_type": "markdown",
   "metadata": {
    "id": "ZSz33-NckdoS"
   },
   "source": [
    "As we can see, the disparity in ICT index scores between Alexander-Arnold,Robertson, and Shaw to the rest is extremely significant. Contrarily, Dias, who is one of the top scorers of points is ranked a very low ICT score. \n",
    "\n",
    "Taking all this data into account, there are a few options of the 5 we can safely pick well. The rest would have to be a combination of risk vs. cost, and depends on the number of players selected for midfielders and forwards per team. "
   ]
  },
  {
   "cell_type": "markdown",
   "metadata": {
    "id": "k1ZTBDyakxGP"
   },
   "source": [
    "**Final conclusion:**\n",
    "\n",
    "Picks: <font size=\"4\">**Dallas, Wan-Bissaka, Dunk, Targett, Shaw** </font>\n",
    "\n",
    "Additional picks if budget allows: **Robertson, Cancelo, Maguire**"
   ]
  },
  {
   "cell_type": "code",
   "execution_count": null,
   "metadata": {
    "colab": {
     "base_uri": "https://localhost:8080/"
    },
    "id": "XQDgiq9EkxQF",
    "outputId": "34fd0787-4d2c-4766-d62f-aa81cc7d1a49"
   },
   "outputs": [
    {
     "name": "stdout",
     "output_type": "stream",
     "text": [
      "26.3\n"
     ]
    }
   ],
   "source": [
    "# finding cost of defense\n",
    "\n",
    "players = ['Dallas','Wan-Bissaka','Dunk','Targett','Shaw']\n",
    "print(get_cost(DEF_data,players))"
   ]
  },
  {
   "cell_type": "markdown",
   "metadata": {
    "id": "9259g_ZSkxZT"
   },
   "source": [
    "**Total cost** = 26.3 million"
   ]
  },
  {
   "cell_type": "markdown",
   "metadata": {
    "id": "9Pj5qMnWkxjM"
   },
   "source": [
    "## Midfielders"
   ]
  },
  {
   "cell_type": "markdown",
   "metadata": {
    "id": "df8LYHhkkxsJ"
   },
   "source": [
    "YES! Finally the group with the highest points, players, return and data. Midfielders are by far the most crucial position in fantasy. They have both attacking and defending potential, with more points given to midfielders who score, and a higher probability of assists for them too. Let us get started!"
   ]
  },
  {
   "cell_type": "code",
   "execution_count": null,
   "metadata": {
    "colab": {
     "base_uri": "https://localhost:8080/",
     "height": 307
    },
    "id": "xr9rB-RXlOOR",
    "outputId": "f4783b59-6b43-4b2d-95bf-2a2ac51287f4"
   },
   "outputs": [
    {
     "data": {
      "text/html": [
       "<div>\n",
       "<style scoped>\n",
       "    .dataframe tbody tr th:only-of-type {\n",
       "        vertical-align: middle;\n",
       "    }\n",
       "\n",
       "    .dataframe tbody tr th {\n",
       "        vertical-align: top;\n",
       "    }\n",
       "\n",
       "    .dataframe thead th {\n",
       "        text-align: right;\n",
       "    }\n",
       "</style>\n",
       "<table border=\"1\" class=\"dataframe\">\n",
       "  <thead>\n",
       "    <tr style=\"text-align: right;\">\n",
       "      <th></th>\n",
       "      <th>team_id</th>\n",
       "      <th>cost_now</th>\n",
       "      <th>goals_scored</th>\n",
       "      <th>goals_conceded</th>\n",
       "      <th>assists</th>\n",
       "      <th>total_points</th>\n",
       "      <th>minutes</th>\n",
       "      <th>creativity</th>\n",
       "      <th>influence</th>\n",
       "      <th>threat</th>\n",
       "      <th>bonus</th>\n",
       "      <th>bps</th>\n",
       "      <th>ict_index</th>\n",
       "      <th>clean_sheets</th>\n",
       "      <th>red_cards</th>\n",
       "      <th>yellow_cards</th>\n",
       "      <th>selected_by_percent</th>\n",
       "      <th>element_type</th>\n",
       "      <th>chance_of_playing_next_round</th>\n",
       "      <th>form</th>\n",
       "      <th>transfers_in</th>\n",
       "      <th>transfers_out</th>\n",
       "      <th>ROI</th>\n",
       "    </tr>\n",
       "  </thead>\n",
       "  <tbody>\n",
       "    <tr>\n",
       "      <th>count</th>\n",
       "      <td>212.000000</td>\n",
       "      <td>212.000000</td>\n",
       "      <td>212.000000</td>\n",
       "      <td>212.000000</td>\n",
       "      <td>212.000000</td>\n",
       "      <td>212.000000</td>\n",
       "      <td>212.000000</td>\n",
       "      <td>212.000000</td>\n",
       "      <td>212.000000</td>\n",
       "      <td>212.000000</td>\n",
       "      <td>212.000000</td>\n",
       "      <td>212.000000</td>\n",
       "      <td>212.000000</td>\n",
       "      <td>212.000000</td>\n",
       "      <td>212.000000</td>\n",
       "      <td>212.000000</td>\n",
       "      <td>212.000000</td>\n",
       "      <td>212.0</td>\n",
       "      <td>175.000000</td>\n",
       "      <td>212.000000</td>\n",
       "      <td>2.120000e+02</td>\n",
       "      <td>2.120000e+02</td>\n",
       "      <td>212.000000</td>\n",
       "    </tr>\n",
       "    <tr>\n",
       "      <th>mean</th>\n",
       "      <td>10.400943</td>\n",
       "      <td>5.593868</td>\n",
       "      <td>2.084906</td>\n",
       "      <td>18.518868</td>\n",
       "      <td>2.146226</td>\n",
       "      <td>55.127358</td>\n",
       "      <td>1273.721698</td>\n",
       "      <td>262.569811</td>\n",
       "      <td>264.000000</td>\n",
       "      <td>250.250000</td>\n",
       "      <td>3.589623</td>\n",
       "      <td>219.127358</td>\n",
       "      <td>77.667453</td>\n",
       "      <td>4.537736</td>\n",
       "      <td>0.070755</td>\n",
       "      <td>2.084906</td>\n",
       "      <td>2.340566</td>\n",
       "      <td>3.0</td>\n",
       "      <td>81.142857</td>\n",
       "      <td>1.704245</td>\n",
       "      <td>5.394922e+05</td>\n",
       "      <td>5.377023e+05</td>\n",
       "      <td>9.420759</td>\n",
       "    </tr>\n",
       "    <tr>\n",
       "      <th>std</th>\n",
       "      <td>5.828887</td>\n",
       "      <td>1.452506</td>\n",
       "      <td>3.192461</td>\n",
       "      <td>12.876542</td>\n",
       "      <td>2.552266</td>\n",
       "      <td>42.496477</td>\n",
       "      <td>843.878769</td>\n",
       "      <td>245.693192</td>\n",
       "      <td>217.559848</td>\n",
       "      <td>278.105829</td>\n",
       "      <td>5.171604</td>\n",
       "      <td>162.343641</td>\n",
       "      <td>68.434228</td>\n",
       "      <td>3.796168</td>\n",
       "      <td>0.257022</td>\n",
       "      <td>2.117935</td>\n",
       "      <td>6.572711</td>\n",
       "      <td>0.0</td>\n",
       "      <td>38.020066</td>\n",
       "      <td>1.870456</td>\n",
       "      <td>1.204382e+06</td>\n",
       "      <td>1.099211e+06</td>\n",
       "      <td>6.304512</td>\n",
       "    </tr>\n",
       "    <tr>\n",
       "      <th>min</th>\n",
       "      <td>1.000000</td>\n",
       "      <td>4.100000</td>\n",
       "      <td>0.000000</td>\n",
       "      <td>0.000000</td>\n",
       "      <td>0.000000</td>\n",
       "      <td>-1.000000</td>\n",
       "      <td>1.000000</td>\n",
       "      <td>0.000000</td>\n",
       "      <td>0.000000</td>\n",
       "      <td>0.000000</td>\n",
       "      <td>0.000000</td>\n",
       "      <td>-4.000000</td>\n",
       "      <td>0.000000</td>\n",
       "      <td>0.000000</td>\n",
       "      <td>0.000000</td>\n",
       "      <td>0.000000</td>\n",
       "      <td>0.000000</td>\n",
       "      <td>3.0</td>\n",
       "      <td>0.000000</td>\n",
       "      <td>0.000000</td>\n",
       "      <td>1.420000e+02</td>\n",
       "      <td>7.800000e+01</td>\n",
       "      <td>-0.222222</td>\n",
       "    </tr>\n",
       "    <tr>\n",
       "      <th>25%</th>\n",
       "      <td>5.000000</td>\n",
       "      <td>4.700000</td>\n",
       "      <td>0.000000</td>\n",
       "      <td>8.000000</td>\n",
       "      <td>0.000000</td>\n",
       "      <td>20.000000</td>\n",
       "      <td>517.000000</td>\n",
       "      <td>78.575000</td>\n",
       "      <td>78.050000</td>\n",
       "      <td>52.750000</td>\n",
       "      <td>0.000000</td>\n",
       "      <td>83.250000</td>\n",
       "      <td>24.150000</td>\n",
       "      <td>1.000000</td>\n",
       "      <td>0.000000</td>\n",
       "      <td>0.000000</td>\n",
       "      <td>0.100000</td>\n",
       "      <td>3.0</td>\n",
       "      <td>100.000000</td>\n",
       "      <td>0.000000</td>\n",
       "      <td>1.104125e+04</td>\n",
       "      <td>1.499550e+04</td>\n",
       "      <td>3.906250</td>\n",
       "    </tr>\n",
       "    <tr>\n",
       "      <th>50%</th>\n",
       "      <td>10.000000</td>\n",
       "      <td>5.200000</td>\n",
       "      <td>1.000000</td>\n",
       "      <td>17.000000</td>\n",
       "      <td>1.000000</td>\n",
       "      <td>50.000000</td>\n",
       "      <td>1227.500000</td>\n",
       "      <td>213.750000</td>\n",
       "      <td>225.500000</td>\n",
       "      <td>147.500000</td>\n",
       "      <td>2.000000</td>\n",
       "      <td>200.500000</td>\n",
       "      <td>68.450000</td>\n",
       "      <td>4.000000</td>\n",
       "      <td>0.000000</td>\n",
       "      <td>2.000000</td>\n",
       "      <td>0.400000</td>\n",
       "      <td>3.0</td>\n",
       "      <td>100.000000</td>\n",
       "      <td>1.000000</td>\n",
       "      <td>6.139700e+04</td>\n",
       "      <td>1.021865e+05</td>\n",
       "      <td>9.016563</td>\n",
       "    </tr>\n",
       "    <tr>\n",
       "      <th>75%</th>\n",
       "      <td>16.000000</td>\n",
       "      <td>5.800000</td>\n",
       "      <td>3.000000</td>\n",
       "      <td>28.000000</td>\n",
       "      <td>3.000000</td>\n",
       "      <td>78.250000</td>\n",
       "      <td>2017.250000</td>\n",
       "      <td>366.275000</td>\n",
       "      <td>409.250000</td>\n",
       "      <td>338.750000</td>\n",
       "      <td>5.000000</td>\n",
       "      <td>345.500000</td>\n",
       "      <td>107.725000</td>\n",
       "      <td>7.000000</td>\n",
       "      <td>0.000000</td>\n",
       "      <td>3.000000</td>\n",
       "      <td>1.325000</td>\n",
       "      <td>3.0</td>\n",
       "      <td>100.000000</td>\n",
       "      <td>2.550000</td>\n",
       "      <td>3.827085e+05</td>\n",
       "      <td>4.269265e+05</td>\n",
       "      <td>13.669071</td>\n",
       "    </tr>\n",
       "    <tr>\n",
       "      <th>max</th>\n",
       "      <td>20.000000</td>\n",
       "      <td>12.700000</td>\n",
       "      <td>20.000000</td>\n",
       "      <td>58.000000</td>\n",
       "      <td>13.000000</td>\n",
       "      <td>221.000000</td>\n",
       "      <td>2970.000000</td>\n",
       "      <td>1319.000000</td>\n",
       "      <td>1174.600000</td>\n",
       "      <td>1598.000000</td>\n",
       "      <td>32.000000</td>\n",
       "      <td>792.000000</td>\n",
       "      <td>360.500000</td>\n",
       "      <td>14.000000</td>\n",
       "      <td>1.000000</td>\n",
       "      <td>9.000000</td>\n",
       "      <td>55.800000</td>\n",
       "      <td>3.0</td>\n",
       "      <td>100.000000</td>\n",
       "      <td>10.500000</td>\n",
       "      <td>8.337810e+06</td>\n",
       "      <td>7.157145e+06</td>\n",
       "      <td>25.263158</td>\n",
       "    </tr>\n",
       "  </tbody>\n",
       "</table>\n",
       "</div>"
      ],
      "text/plain": [
       "          team_id    cost_now  goals_scored  goals_conceded     assists  \\\n",
       "count  212.000000  212.000000    212.000000      212.000000  212.000000   \n",
       "mean    10.400943    5.593868      2.084906       18.518868    2.146226   \n",
       "std      5.828887    1.452506      3.192461       12.876542    2.552266   \n",
       "min      1.000000    4.100000      0.000000        0.000000    0.000000   \n",
       "25%      5.000000    4.700000      0.000000        8.000000    0.000000   \n",
       "50%     10.000000    5.200000      1.000000       17.000000    1.000000   \n",
       "75%     16.000000    5.800000      3.000000       28.000000    3.000000   \n",
       "max     20.000000   12.700000     20.000000       58.000000   13.000000   \n",
       "\n",
       "       total_points      minutes   creativity    influence       threat  \\\n",
       "count    212.000000   212.000000   212.000000   212.000000   212.000000   \n",
       "mean      55.127358  1273.721698   262.569811   264.000000   250.250000   \n",
       "std       42.496477   843.878769   245.693192   217.559848   278.105829   \n",
       "min       -1.000000     1.000000     0.000000     0.000000     0.000000   \n",
       "25%       20.000000   517.000000    78.575000    78.050000    52.750000   \n",
       "50%       50.000000  1227.500000   213.750000   225.500000   147.500000   \n",
       "75%       78.250000  2017.250000   366.275000   409.250000   338.750000   \n",
       "max      221.000000  2970.000000  1319.000000  1174.600000  1598.000000   \n",
       "\n",
       "            bonus         bps   ict_index  clean_sheets   red_cards  \\\n",
       "count  212.000000  212.000000  212.000000    212.000000  212.000000   \n",
       "mean     3.589623  219.127358   77.667453      4.537736    0.070755   \n",
       "std      5.171604  162.343641   68.434228      3.796168    0.257022   \n",
       "min      0.000000   -4.000000    0.000000      0.000000    0.000000   \n",
       "25%      0.000000   83.250000   24.150000      1.000000    0.000000   \n",
       "50%      2.000000  200.500000   68.450000      4.000000    0.000000   \n",
       "75%      5.000000  345.500000  107.725000      7.000000    0.000000   \n",
       "max     32.000000  792.000000  360.500000     14.000000    1.000000   \n",
       "\n",
       "       yellow_cards  selected_by_percent  element_type  \\\n",
       "count    212.000000           212.000000         212.0   \n",
       "mean       2.084906             2.340566           3.0   \n",
       "std        2.117935             6.572711           0.0   \n",
       "min        0.000000             0.000000           3.0   \n",
       "25%        0.000000             0.100000           3.0   \n",
       "50%        2.000000             0.400000           3.0   \n",
       "75%        3.000000             1.325000           3.0   \n",
       "max        9.000000            55.800000           3.0   \n",
       "\n",
       "       chance_of_playing_next_round        form  transfers_in  transfers_out  \\\n",
       "count                    175.000000  212.000000  2.120000e+02   2.120000e+02   \n",
       "mean                      81.142857    1.704245  5.394922e+05   5.377023e+05   \n",
       "std                       38.020066    1.870456  1.204382e+06   1.099211e+06   \n",
       "min                        0.000000    0.000000  1.420000e+02   7.800000e+01   \n",
       "25%                      100.000000    0.000000  1.104125e+04   1.499550e+04   \n",
       "50%                      100.000000    1.000000  6.139700e+04   1.021865e+05   \n",
       "75%                      100.000000    2.550000  3.827085e+05   4.269265e+05   \n",
       "max                      100.000000   10.500000  8.337810e+06   7.157145e+06   \n",
       "\n",
       "              ROI  \n",
       "count  212.000000  \n",
       "mean     9.420759  \n",
       "std      6.304512  \n",
       "min     -0.222222  \n",
       "25%      3.906250  \n",
       "50%      9.016563  \n",
       "75%     13.669071  \n",
       "max     25.263158  "
      ]
     },
     "execution_count": 29,
     "metadata": {
      "tags": []
     },
     "output_type": "execute_result"
    }
   ],
   "source": [
    "# Creating the Midfielders df\n",
    "MID_data = player_data[player_data['element_type'] == 3]\n",
    "\n",
    "# basic statistics\n",
    "MID_data.describe()"
   ]
  },
  {
   "cell_type": "markdown",
   "metadata": {
    "id": "uYeDs-KplOWW"
   },
   "source": [
    "There is some interesting information that we can see on the surface level itself here. Firstly, the average cost of a midfielder is surprisingly high at around 5.6 million. Further, the average ROI is also adequately high at around 9.42. \n",
    "\n",
    "When we look a little deeper, we see that a single midfielder has been selected by around 56% of player (WHO IS THIS ?), and the mean goals scored is around 2, which is predominantly high for a midfielder. "
   ]
  },
  {
   "cell_type": "code",
   "execution_count": null,
   "metadata": {
    "colab": {
     "base_uri": "https://localhost:8080/",
     "height": 390
    },
    "id": "-wrskHy5lOed",
    "outputId": "d907f204-2c3f-43b0-ead7-ebbd9182c95e"
   },
   "outputs": [
    {
     "data": {
      "image/png": "[encoded data removed]",
      "text/plain": [
       "<Figure size 1296x432 with 2 Axes>"
      ]
     },
     "metadata": {
      "needs_background": "light",
      "tags": []
     },
     "output_type": "display_data"
    }
   ],
   "source": [
    "#Further Midfield visualizations \n",
    "\n",
    "build_bar_plot(MID_data)"
   ]
  },
  {
   "cell_type": "markdown",
   "metadata": {
    "id": "fKB7OMWplOmi"
   },
   "source": [
    "WOW! These numbers are great! Gündogan, Soucek, Pereira, and Harrison all have amazing ROIs while Fernandes, Salah, and Son have points which are almost 40 more than anyone else in the near competition. But they do not show up on top of the ROI list so they must be extremely expensive, and deservedly so. \n",
    "\n",
    "Lets look at a few statistics with respect to the cost."
   ]
  },
  {
   "cell_type": "code",
   "execution_count": null,
   "metadata": {
    "colab": {
     "base_uri": "https://localhost:8080/",
     "height": 622
    },
    "id": "zoah9MP5lOwo",
    "outputId": "887f138c-74f4-451f-b353-7abfad71e58b"
   },
   "outputs": [
    {
     "data": {
      "image/png": "[encoded data removed]",
      "text/plain": [
       "<Figure size 1224x720 with 1 Axes>"
      ]
     },
     "metadata": {
      "needs_background": "light",
      "tags": []
     },
     "output_type": "display_data"
    }
   ],
   "source": [
    "# Midfielders Cost (in millions) vs total points\n",
    "\n",
    "build_sorted_scatter_comparison(MID_data, 'cost_now','total_points','Midfielders')"
   ]
  },
  {
   "cell_type": "markdown",
   "metadata": {
    "id": "alVQqAjblO6W"
   },
   "source": [
    "Obviously, we cant spend on all of the top 5 we see as we have limited budget, but this is EXACTLY where our ROI model comes in. The balance between expensive but performing picks, and useful but cheaper picks is key to perform well in fantasy. Now, obviously we can afford to dish out some money to pick the best players, and it is essential that a consistent but effective player will be worth the price.\n",
    "\n",
    "It is a solid decision we have to go with **Fernandes** . \n",
    "\n",
    "Lets also look at the player who initially we saw was selected by a crazy 56%! "
   ]
  },
  {
   "cell_type": "code",
   "execution_count": null,
   "metadata": {
    "colab": {
     "base_uri": "https://localhost:8080/",
     "height": 114
    },
    "id": "x0BViolElPCZ",
    "outputId": "d5b30c68-fdc4-4f65-e2c5-e28f70885974"
   },
   "outputs": [
    {
     "data": {
      "text/html": [
       "<div>\n",
       "<style scoped>\n",
       "    .dataframe tbody tr th:only-of-type {\n",
       "        vertical-align: middle;\n",
       "    }\n",
       "\n",
       "    .dataframe tbody tr th {\n",
       "        vertical-align: top;\n",
       "    }\n",
       "\n",
       "    .dataframe thead th {\n",
       "        text-align: right;\n",
       "    }\n",
       "</style>\n",
       "<table border=\"1\" class=\"dataframe\">\n",
       "  <thead>\n",
       "    <tr style=\"text-align: right;\">\n",
       "      <th></th>\n",
       "      <th>web_name</th>\n",
       "      <th>second_name</th>\n",
       "      <th>team_id</th>\n",
       "      <th>team_name</th>\n",
       "      <th>cost_now</th>\n",
       "      <th>goals_scored</th>\n",
       "      <th>goals_conceded</th>\n",
       "      <th>assists</th>\n",
       "      <th>total_points</th>\n",
       "      <th>minutes</th>\n",
       "      <th>creativity</th>\n",
       "      <th>influence</th>\n",
       "      <th>threat</th>\n",
       "      <th>bonus</th>\n",
       "      <th>bps</th>\n",
       "      <th>ict_index</th>\n",
       "      <th>clean_sheets</th>\n",
       "      <th>red_cards</th>\n",
       "      <th>yellow_cards</th>\n",
       "      <th>selected_by_percent</th>\n",
       "      <th>element_type</th>\n",
       "      <th>chance_of_playing_next_round</th>\n",
       "      <th>form</th>\n",
       "      <th>transfers_in</th>\n",
       "      <th>transfers_out</th>\n",
       "      <th>ROI</th>\n",
       "    </tr>\n",
       "  </thead>\n",
       "  <tbody>\n",
       "    <tr>\n",
       "      <th>424</th>\n",
       "      <td>Fernandes</td>\n",
       "      <td>Borges Fernandes</td>\n",
       "      <td>13</td>\n",
       "      <td>Man Utd</td>\n",
       "      <td>11.5</td>\n",
       "      <td>16</td>\n",
       "      <td>30</td>\n",
       "      <td>13</td>\n",
       "      <td>221</td>\n",
       "      <td>2824</td>\n",
       "      <td>1319.0</td>\n",
       "      <td>1174.6</td>\n",
       "      <td>1109.0</td>\n",
       "      <td>32</td>\n",
       "      <td>792</td>\n",
       "      <td>360.5</td>\n",
       "      <td>13</td>\n",
       "      <td>0</td>\n",
       "      <td>5</td>\n",
       "      <td>55.8</td>\n",
       "      <td>3</td>\n",
       "      <td>NaN</td>\n",
       "      <td>3.0</td>\n",
       "      <td>5969750</td>\n",
       "      <td>3030222</td>\n",
       "      <td>19.217391</td>\n",
       "    </tr>\n",
       "  </tbody>\n",
       "</table>\n",
       "</div>"
      ],
      "text/plain": [
       "      web_name       second_name  team_id team_name  cost_now  goals_scored  \\\n",
       "424  Fernandes  Borges Fernandes       13   Man Utd      11.5            16   \n",
       "\n",
       "     goals_conceded  assists  total_points  minutes  creativity  influence  \\\n",
       "424              30       13           221     2824      1319.0     1174.6   \n",
       "\n",
       "     threat  bonus  bps  ict_index  clean_sheets  red_cards  yellow_cards  \\\n",
       "424  1109.0     32  792      360.5            13          0             5   \n",
       "\n",
       "     selected_by_percent  element_type  chance_of_playing_next_round  form  \\\n",
       "424                 55.8             3                           NaN   3.0   \n",
       "\n",
       "     transfers_in  transfers_out        ROI  \n",
       "424       5969750        3030222  19.217391  "
      ]
     },
     "execution_count": 32,
     "metadata": {
      "tags": []
     },
     "output_type": "execute_result"
    }
   ],
   "source": [
    "MID_data[MID_data['selected_by_percent'] == 55.800000]"
   ]
  },
  {
   "cell_type": "markdown",
   "metadata": {
    "id": "BvUmGIyMlPNB"
   },
   "source": [
    "Apparently everyone else thought the same thing too... Stats dont lie.\n",
    "\n",
    "Midfield is also another crucial position to pick in the sense that it is one that gets rotated a lot by managers. Since there are the most number of players (and points) in midfield, managers have a deep squad depth in their hands to swap players to either get rest, try out new tactics, or substitute when they get tired in game. Therefore, analyzing the current form of a player is also a useful option to obtain more information.\n",
    "\n",
    "Remember, a player gets 2 points per game if he plays more than 60 minutes in the game. Further, midfield is the position where a lot of passes and tackles are made, and the Bonus Points System that adds to the total points takes into account successful pass completion rates, decisive tackles and interceptions etc., so there is a lot to consider here."
   ]
  },
  {
   "cell_type": "code",
   "execution_count": null,
   "metadata": {
    "colab": {
     "base_uri": "https://localhost:8080/",
     "height": 621
    },
    "id": "eB4haVPBlPWp",
    "outputId": "f52565d1-479b-4680-efd8-9658ba2fb72b"
   },
   "outputs": [
    {
     "data": {
      "image/png": "[encoded data removed]",
      "text/plain": [
       "<Figure size 1224x720 with 1 Axes>"
      ]
     },
     "metadata": {
      "needs_background": "light",
      "tags": []
     },
     "output_type": "display_data"
    }
   ],
   "source": [
    "# Midfielders form vs cost \n",
    "\n",
    "build_sorted_scatter_comparison(MID_data, 'form','cost_now','Midfielders')"
   ]
  },
  {
   "cell_type": "markdown",
   "metadata": {
    "id": "j4OlKT1ZlPfe"
   },
   "source": [
    "One obvious outlier: Pereira. The cost is so low that it becomes somewhat skeptical. Perhaps he only performed last game and is not consistent. Let us see form vs. total points and see if it paints a better picture. "
   ]
  },
  {
   "cell_type": "code",
   "execution_count": null,
   "metadata": {
    "colab": {
     "base_uri": "https://localhost:8080/",
     "height": 621
    },
    "id": "RnemYRqWlPoh",
    "outputId": "868db148-a440-491d-cbac-bf4020ec7e38"
   },
   "outputs": [
    {
     "data": {
      "image/png": "[encoded data removed]",
      "text/plain": [
       "<Figure size 1224x720 with 1 Axes>"
      ]
     },
     "metadata": {
      "needs_background": "light",
      "tags": []
     },
     "output_type": "display_data"
    }
   ],
   "source": [
    "# Midfielder form vs points comparison \n",
    "\n",
    "build_sorted_scatter_comparison(MID_data, 'form','total_points','Midfielders')"
   ]
  },
  {
   "cell_type": "markdown",
   "metadata": {
    "id": "6NTDZeg2l2_J"
   },
   "source": [
    "Of course now, we see a clear grouping of player performance. Either the player is performing really well and is extremely expensive (9 million+) or in the affordable range with decent performances. \n",
    "\n",
    "As we hypothesized, Pereira does not have an absurdly high total points but is not bad at all. \n",
    "\n",
    "Although it seems like we have a lot of players to pick from who are performing well, a midfield position is something we would ideally like to be our consistent point getter no matter the gameweek. We can trim our dataset easily by sorting through a high average of minutes played, which means that they are regular squad picks and are not injured/swapped easily. This ensures that regardless of their in-game performance which might vary, they will still get us some points. "
   ]
  },
  {
   "cell_type": "code",
   "execution_count": null,
   "metadata": {
    "collapsed": true,
    "id": "qpI4LdStl3G5"
   },
   "outputs": [],
   "source": [
    "# Isolating midfielders with high average minutes (will Q3 or upper-quartile stats)\n",
    "\n",
    "MID_mins_data = MID_data[MID_data['minutes'] >= 2017.25] # from descriptive statistics 75% or Q3"
   ]
  },
  {
   "cell_type": "code",
   "execution_count": null,
   "metadata": {
    "colab": {
     "base_uri": "https://localhost:8080/",
     "height": 390
    },
    "id": "SrvujqGsl3Or",
    "outputId": "a95fc5ed-9ae0-4b53-ca53-355b22b7a700"
   },
   "outputs": [
    {
     "data": {
      "image/png": "[encoded data removed]",
      "text/plain": [
       "<Figure size 1296x432 with 2 Axes>"
      ]
     },
     "metadata": {
      "needs_background": "light",
      "tags": []
     },
     "output_type": "display_data"
    }
   ],
   "source": [
    "# High average minutes visualizations\n",
    "\n",
    "build_bar_plot(MID_mins_data)"
   ]
  },
  {
   "cell_type": "markdown",
   "metadata": {
    "id": "cn8UFKSGl3V3"
   },
   "source": [
    "A good way we can comb through this is to look at the total points table we have and then cross reference the highest players apart from the top 5 who are too expensive, to finalize our ideal maximized ROI and points player. \n",
    "\n",
    "Looking at the two graphs, we can isolate the options to Mount, Pereira, Harrison, and Ward-Prowse.\n",
    "\n",
    "\n",
    "Therefore, combining all the information we have, we can finalize our Midfield picks. \n",
    "\n",
    "**Final Conclusion:**\n",
    "\n",
    "Picks: <font size=\"4\">**Fernandes, Mount, Pereira, Harrison, Ward-Prowse** </font>\n",
    "\n",
    "Additional picks if budget allows: **Salah, Son, Rashford**"
   ]
  },
  {
   "cell_type": "code",
   "execution_count": null,
   "metadata": {
    "colab": {
     "base_uri": "https://localhost:8080/"
    },
    "id": "pOgoLf_9l3dd",
    "outputId": "95d26fbf-2686-4812-9e3f-38e8afcfc571"
   },
   "outputs": [
    {
     "name": "stdout",
     "output_type": "stream",
     "text": [
      "35.5\n"
     ]
    }
   ],
   "source": [
    "# finding cost of Midfield\n",
    "\n",
    "players = ['Fernandes','Mount','Pereira','Harrison','Ward-Prowse']\n",
    "print(get_cost(MID_data,players))"
   ]
  },
  {
   "cell_type": "markdown",
   "metadata": {
    "id": "UzDhlACNl3lw"
   },
   "source": [
    "**Total cost** = 35.5 million"
   ]
  },
  {
   "cell_type": "markdown",
   "metadata": {
    "id": "fTskp1PTl3uJ"
   },
   "source": [
    "## Forwards"
   ]
  },
  {
   "cell_type": "markdown",
   "metadata": {
    "id": "tI0-_zw3l316"
   },
   "source": [
    "Finally, we have our forwards, the goal scorers. The potential to increase our points margin is a lot with these players. They have to be clinical, and consistent. "
   ]
  },
  {
   "cell_type": "code",
   "execution_count": null,
   "metadata": {
    "colab": {
     "base_uri": "https://localhost:8080/",
     "height": 307
    },
    "id": "4oU1s127l3-J",
    "outputId": "73f537de-0476-41cd-d8a8-13ed6ddb5d24"
   },
   "outputs": [
    {
     "data": {
      "text/html": [
       "<div>\n",
       "<style scoped>\n",
       "    .dataframe tbody tr th:only-of-type {\n",
       "        vertical-align: middle;\n",
       "    }\n",
       "\n",
       "    .dataframe tbody tr th {\n",
       "        vertical-align: top;\n",
       "    }\n",
       "\n",
       "    .dataframe thead th {\n",
       "        text-align: right;\n",
       "    }\n",
       "</style>\n",
       "<table border=\"1\" class=\"dataframe\">\n",
       "  <thead>\n",
       "    <tr style=\"text-align: right;\">\n",
       "      <th></th>\n",
       "      <th>team_id</th>\n",
       "      <th>cost_now</th>\n",
       "      <th>goals_scored</th>\n",
       "      <th>goals_conceded</th>\n",
       "      <th>assists</th>\n",
       "      <th>total_points</th>\n",
       "      <th>minutes</th>\n",
       "      <th>creativity</th>\n",
       "      <th>influence</th>\n",
       "      <th>threat</th>\n",
       "      <th>bonus</th>\n",
       "      <th>bps</th>\n",
       "      <th>ict_index</th>\n",
       "      <th>clean_sheets</th>\n",
       "      <th>red_cards</th>\n",
       "      <th>yellow_cards</th>\n",
       "      <th>selected_by_percent</th>\n",
       "      <th>element_type</th>\n",
       "      <th>chance_of_playing_next_round</th>\n",
       "      <th>form</th>\n",
       "      <th>transfers_in</th>\n",
       "      <th>transfers_out</th>\n",
       "      <th>ROI</th>\n",
       "    </tr>\n",
       "  </thead>\n",
       "  <tbody>\n",
       "    <tr>\n",
       "      <th>count</th>\n",
       "      <td>73.000000</td>\n",
       "      <td>73.000000</td>\n",
       "      <td>73.000000</td>\n",
       "      <td>73.000000</td>\n",
       "      <td>73.000000</td>\n",
       "      <td>73.000000</td>\n",
       "      <td>73.000000</td>\n",
       "      <td>73.000000</td>\n",
       "      <td>73.000000</td>\n",
       "      <td>73.000000</td>\n",
       "      <td>73.000000</td>\n",
       "      <td>73.000000</td>\n",
       "      <td>73.000000</td>\n",
       "      <td>73.000000</td>\n",
       "      <td>73.000000</td>\n",
       "      <td>73.000000</td>\n",
       "      <td>73.000000</td>\n",
       "      <td>73.0</td>\n",
       "      <td>60.000000</td>\n",
       "      <td>73.000000</td>\n",
       "      <td>7.300000e+01</td>\n",
       "      <td>7.300000e+01</td>\n",
       "      <td>73.000000</td>\n",
       "    </tr>\n",
       "    <tr>\n",
       "      <th>mean</th>\n",
       "      <td>10.698630</td>\n",
       "      <td>6.123288</td>\n",
       "      <td>3.753425</td>\n",
       "      <td>15.410959</td>\n",
       "      <td>2.191781</td>\n",
       "      <td>53.369863</td>\n",
       "      <td>1010.301370</td>\n",
       "      <td>152.901370</td>\n",
       "      <td>219.843836</td>\n",
       "      <td>409.972603</td>\n",
       "      <td>5.890411</td>\n",
       "      <td>171.410959</td>\n",
       "      <td>77.984932</td>\n",
       "      <td>3.342466</td>\n",
       "      <td>0.041096</td>\n",
       "      <td>1.082192</td>\n",
       "      <td>4.084932</td>\n",
       "      <td>4.0</td>\n",
       "      <td>72.083333</td>\n",
       "      <td>1.793151</td>\n",
       "      <td>9.290045e+05</td>\n",
       "      <td>9.256822e+05</td>\n",
       "      <td>8.043804</td>\n",
       "    </tr>\n",
       "    <tr>\n",
       "      <th>std</th>\n",
       "      <td>5.765522</td>\n",
       "      <td>1.558357</td>\n",
       "      <td>4.452779</td>\n",
       "      <td>13.213877</td>\n",
       "      <td>3.044383</td>\n",
       "      <td>48.449431</td>\n",
       "      <td>855.455949</td>\n",
       "      <td>145.162998</td>\n",
       "      <td>237.973701</td>\n",
       "      <td>393.352223</td>\n",
       "      <td>7.126947</td>\n",
       "      <td>169.918595</td>\n",
       "      <td>75.859557</td>\n",
       "      <td>3.492926</td>\n",
       "      <td>0.199886</td>\n",
       "      <td>1.516148</td>\n",
       "      <td>8.957828</td>\n",
       "      <td>0.0</td>\n",
       "      <td>44.171197</td>\n",
       "      <td>2.201535</td>\n",
       "      <td>1.771988e+06</td>\n",
       "      <td>1.551857e+06</td>\n",
       "      <td>6.373232</td>\n",
       "    </tr>\n",
       "    <tr>\n",
       "      <th>min</th>\n",
       "      <td>1.000000</td>\n",
       "      <td>4.200000</td>\n",
       "      <td>0.000000</td>\n",
       "      <td>0.000000</td>\n",
       "      <td>0.000000</td>\n",
       "      <td>1.000000</td>\n",
       "      <td>1.000000</td>\n",
       "      <td>0.000000</td>\n",
       "      <td>0.000000</td>\n",
       "      <td>0.000000</td>\n",
       "      <td>0.000000</td>\n",
       "      <td>0.000000</td>\n",
       "      <td>0.000000</td>\n",
       "      <td>0.000000</td>\n",
       "      <td>0.000000</td>\n",
       "      <td>0.000000</td>\n",
       "      <td>0.000000</td>\n",
       "      <td>4.0</td>\n",
       "      <td>0.000000</td>\n",
       "      <td>0.000000</td>\n",
       "      <td>1.931000e+03</td>\n",
       "      <td>2.170000e+03</td>\n",
       "      <td>0.163934</td>\n",
       "    </tr>\n",
       "    <tr>\n",
       "      <th>25%</th>\n",
       "      <td>6.000000</td>\n",
       "      <td>5.200000</td>\n",
       "      <td>0.000000</td>\n",
       "      <td>3.000000</td>\n",
       "      <td>0.000000</td>\n",
       "      <td>12.000000</td>\n",
       "      <td>180.000000</td>\n",
       "      <td>15.600000</td>\n",
       "      <td>17.800000</td>\n",
       "      <td>51.000000</td>\n",
       "      <td>0.000000</td>\n",
       "      <td>21.000000</td>\n",
       "      <td>9.500000</td>\n",
       "      <td>0.000000</td>\n",
       "      <td>0.000000</td>\n",
       "      <td>0.000000</td>\n",
       "      <td>0.100000</td>\n",
       "      <td>4.0</td>\n",
       "      <td>18.750000</td>\n",
       "      <td>0.000000</td>\n",
       "      <td>2.533400e+04</td>\n",
       "      <td>3.629600e+04</td>\n",
       "      <td>1.960784</td>\n",
       "    </tr>\n",
       "    <tr>\n",
       "      <th>50%</th>\n",
       "      <td>11.000000</td>\n",
       "      <td>5.700000</td>\n",
       "      <td>2.000000</td>\n",
       "      <td>12.000000</td>\n",
       "      <td>1.000000</td>\n",
       "      <td>43.000000</td>\n",
       "      <td>974.000000</td>\n",
       "      <td>118.900000</td>\n",
       "      <td>143.200000</td>\n",
       "      <td>297.000000</td>\n",
       "      <td>3.000000</td>\n",
       "      <td>113.000000</td>\n",
       "      <td>54.300000</td>\n",
       "      <td>3.000000</td>\n",
       "      <td>0.000000</td>\n",
       "      <td>0.000000</td>\n",
       "      <td>0.600000</td>\n",
       "      <td>4.0</td>\n",
       "      <td>100.000000</td>\n",
       "      <td>0.800000</td>\n",
       "      <td>1.837930e+05</td>\n",
       "      <td>1.812760e+05</td>\n",
       "      <td>7.115385</td>\n",
       "    </tr>\n",
       "    <tr>\n",
       "      <th>75%</th>\n",
       "      <td>16.000000</td>\n",
       "      <td>6.500000</td>\n",
       "      <td>6.000000</td>\n",
       "      <td>25.000000</td>\n",
       "      <td>3.000000</td>\n",
       "      <td>79.000000</td>\n",
       "      <td>1700.000000</td>\n",
       "      <td>263.100000</td>\n",
       "      <td>352.200000</td>\n",
       "      <td>678.000000</td>\n",
       "      <td>9.000000</td>\n",
       "      <td>287.000000</td>\n",
       "      <td>126.800000</td>\n",
       "      <td>5.000000</td>\n",
       "      <td>0.000000</td>\n",
       "      <td>2.000000</td>\n",
       "      <td>3.300000</td>\n",
       "      <td>4.0</td>\n",
       "      <td>100.000000</td>\n",
       "      <td>3.200000</td>\n",
       "      <td>1.110835e+06</td>\n",
       "      <td>1.063198e+06</td>\n",
       "      <td>12.173913</td>\n",
       "    </tr>\n",
       "    <tr>\n",
       "      <th>max</th>\n",
       "      <td>20.000000</td>\n",
       "      <td>11.800000</td>\n",
       "      <td>21.000000</td>\n",
       "      <td>47.000000</td>\n",
       "      <td>13.000000</td>\n",
       "      <td>218.000000</td>\n",
       "      <td>2880.000000</td>\n",
       "      <td>547.000000</td>\n",
       "      <td>1192.600000</td>\n",
       "      <td>1454.000000</td>\n",
       "      <td>37.000000</td>\n",
       "      <td>797.000000</td>\n",
       "      <td>307.800000</td>\n",
       "      <td>14.000000</td>\n",
       "      <td>1.000000</td>\n",
       "      <td>7.000000</td>\n",
       "      <td>45.400000</td>\n",
       "      <td>4.0</td>\n",
       "      <td>100.000000</td>\n",
       "      <td>9.200000</td>\n",
       "      <td>8.342264e+06</td>\n",
       "      <td>7.435178e+06</td>\n",
       "      <td>25.384615</td>\n",
       "    </tr>\n",
       "  </tbody>\n",
       "</table>\n",
       "</div>"
      ],
      "text/plain": [
       "         team_id   cost_now  goals_scored  goals_conceded    assists  \\\n",
       "count  73.000000  73.000000     73.000000       73.000000  73.000000   \n",
       "mean   10.698630   6.123288      3.753425       15.410959   2.191781   \n",
       "std     5.765522   1.558357      4.452779       13.213877   3.044383   \n",
       "min     1.000000   4.200000      0.000000        0.000000   0.000000   \n",
       "25%     6.000000   5.200000      0.000000        3.000000   0.000000   \n",
       "50%    11.000000   5.700000      2.000000       12.000000   1.000000   \n",
       "75%    16.000000   6.500000      6.000000       25.000000   3.000000   \n",
       "max    20.000000  11.800000     21.000000       47.000000  13.000000   \n",
       "\n",
       "       total_points      minutes  creativity    influence       threat  \\\n",
       "count     73.000000    73.000000   73.000000    73.000000    73.000000   \n",
       "mean      53.369863  1010.301370  152.901370   219.843836   409.972603   \n",
       "std       48.449431   855.455949  145.162998   237.973701   393.352223   \n",
       "min        1.000000     1.000000    0.000000     0.000000     0.000000   \n",
       "25%       12.000000   180.000000   15.600000    17.800000    51.000000   \n",
       "50%       43.000000   974.000000  118.900000   143.200000   297.000000   \n",
       "75%       79.000000  1700.000000  263.100000   352.200000   678.000000   \n",
       "max      218.000000  2880.000000  547.000000  1192.600000  1454.000000   \n",
       "\n",
       "           bonus         bps   ict_index  clean_sheets  red_cards  \\\n",
       "count  73.000000   73.000000   73.000000     73.000000  73.000000   \n",
       "mean    5.890411  171.410959   77.984932      3.342466   0.041096   \n",
       "std     7.126947  169.918595   75.859557      3.492926   0.199886   \n",
       "min     0.000000    0.000000    0.000000      0.000000   0.000000   \n",
       "25%     0.000000   21.000000    9.500000      0.000000   0.000000   \n",
       "50%     3.000000  113.000000   54.300000      3.000000   0.000000   \n",
       "75%     9.000000  287.000000  126.800000      5.000000   0.000000   \n",
       "max    37.000000  797.000000  307.800000     14.000000   1.000000   \n",
       "\n",
       "       yellow_cards  selected_by_percent  element_type  \\\n",
       "count     73.000000            73.000000          73.0   \n",
       "mean       1.082192             4.084932           4.0   \n",
       "std        1.516148             8.957828           0.0   \n",
       "min        0.000000             0.000000           4.0   \n",
       "25%        0.000000             0.100000           4.0   \n",
       "50%        0.000000             0.600000           4.0   \n",
       "75%        2.000000             3.300000           4.0   \n",
       "max        7.000000            45.400000           4.0   \n",
       "\n",
       "       chance_of_playing_next_round       form  transfers_in  transfers_out  \\\n",
       "count                     60.000000  73.000000  7.300000e+01   7.300000e+01   \n",
       "mean                      72.083333   1.793151  9.290045e+05   9.256822e+05   \n",
       "std                       44.171197   2.201535  1.771988e+06   1.551857e+06   \n",
       "min                        0.000000   0.000000  1.931000e+03   2.170000e+03   \n",
       "25%                       18.750000   0.000000  2.533400e+04   3.629600e+04   \n",
       "50%                      100.000000   0.800000  1.837930e+05   1.812760e+05   \n",
       "75%                      100.000000   3.200000  1.110835e+06   1.063198e+06   \n",
       "max                      100.000000   9.200000  8.342264e+06   7.435178e+06   \n",
       "\n",
       "             ROI  \n",
       "count  73.000000  \n",
       "mean    8.043804  \n",
       "std     6.373232  \n",
       "min     0.163934  \n",
       "25%     1.960784  \n",
       "50%     7.115385  \n",
       "75%    12.173913  \n",
       "max    25.384615  "
      ]
     },
     "execution_count": 38,
     "metadata": {
      "tags": []
     },
     "output_type": "execute_result"
    }
   ],
   "source": [
    "# Creating Forwards df\n",
    "\n",
    "FWD_data = player_data[player_data['element_type'] == 4]\n",
    "\n",
    "# basic statistics\n",
    "FWD_data.describe()"
   ]
  },
  {
   "cell_type": "markdown",
   "metadata": {
    "id": "MpXGgzzBl4IW"
   },
   "source": [
    "Again, we can see more interesting information just by looking at surface level statistics. Firstly, the average striker costs 6.12 million! Which is much more than all the other positions on the pitch. We also see the avg. goals scored by a striker which is almost 4, higher than midfielders (strikers are doing their job!). \n",
    "\n",
    "Further, we also see that 1 striker has been selected by 45% of players, another popular pick. My guess is that it is Harry Kane who has been performing well all season and is the highest goal scorer and lead assister in the league right now. A solid player choice. Lets see if our statistics reveal more interesting information."
   ]
  },
  {
   "cell_type": "code",
   "execution_count": null,
   "metadata": {
    "colab": {
     "base_uri": "https://localhost:8080/",
     "height": 390
    },
    "id": "Sgm9_MH_mrph",
    "outputId": "e78f4e0d-8893-4d71-985b-52733c1b90b0"
   },
   "outputs": [
    {
     "data": {
      "image/png": "[encoded data removed]",
      "text/plain": [
       "<Figure size 1296x432 with 2 Axes>"
      ]
     },
     "metadata": {
      "needs_background": "light",
      "tags": []
     },
     "output_type": "display_data"
    }
   ],
   "source": [
    "#Further Forward visualizations \n",
    "\n",
    "build_bar_plot(FWD_data)"
   ]
  },
  {
   "cell_type": "code",
   "execution_count": null,
   "metadata": {
    "colab": {
     "base_uri": "https://localhost:8080/",
     "height": 97
    },
    "id": "S6aEFyHsmr0p",
    "outputId": "19c5a8e1-0351-45dd-a6ce-d2f283c13523"
   },
   "outputs": [
    {
     "data": {
      "text/html": [
       "<div>\n",
       "<style scoped>\n",
       "    .dataframe tbody tr th:only-of-type {\n",
       "        vertical-align: middle;\n",
       "    }\n",
       "\n",
       "    .dataframe tbody tr th {\n",
       "        vertical-align: top;\n",
       "    }\n",
       "\n",
       "    .dataframe thead th {\n",
       "        text-align: right;\n",
       "    }\n",
       "</style>\n",
       "<table border=\"1\" class=\"dataframe\">\n",
       "  <thead>\n",
       "    <tr style=\"text-align: right;\">\n",
       "      <th></th>\n",
       "      <th>web_name</th>\n",
       "      <th>second_name</th>\n",
       "      <th>team_id</th>\n",
       "      <th>team_name</th>\n",
       "      <th>cost_now</th>\n",
       "      <th>goals_scored</th>\n",
       "      <th>goals_conceded</th>\n",
       "      <th>assists</th>\n",
       "      <th>total_points</th>\n",
       "      <th>minutes</th>\n",
       "      <th>creativity</th>\n",
       "      <th>influence</th>\n",
       "      <th>threat</th>\n",
       "      <th>bonus</th>\n",
       "      <th>bps</th>\n",
       "      <th>ict_index</th>\n",
       "      <th>clean_sheets</th>\n",
       "      <th>red_cards</th>\n",
       "      <th>yellow_cards</th>\n",
       "      <th>selected_by_percent</th>\n",
       "      <th>element_type</th>\n",
       "      <th>chance_of_playing_next_round</th>\n",
       "      <th>form</th>\n",
       "      <th>transfers_in</th>\n",
       "      <th>transfers_out</th>\n",
       "      <th>ROI</th>\n",
       "    </tr>\n",
       "  </thead>\n",
       "  <tbody>\n",
       "    <tr>\n",
       "      <th>557</th>\n",
       "      <td>Kane</td>\n",
       "      <td>Kane</td>\n",
       "      <td>17</td>\n",
       "      <td>Spurs</td>\n",
       "      <td>11.8</td>\n",
       "      <td>21</td>\n",
       "      <td>32</td>\n",
       "      <td>13</td>\n",
       "      <td>218</td>\n",
       "      <td>2633</td>\n",
       "      <td>547.0</td>\n",
       "      <td>1192.6</td>\n",
       "      <td>1342.0</td>\n",
       "      <td>37</td>\n",
       "      <td>797</td>\n",
       "      <td>307.8</td>\n",
       "      <td>10</td>\n",
       "      <td>0</td>\n",
       "      <td>1</td>\n",
       "      <td>45.4</td>\n",
       "      <td>4</td>\n",
       "      <td>100.0</td>\n",
       "      <td>6.8</td>\n",
       "      <td>7665116</td>\n",
       "      <td>5571932</td>\n",
       "      <td>18.474576</td>\n",
       "    </tr>\n",
       "  </tbody>\n",
       "</table>\n",
       "</div>"
      ],
      "text/plain": [
       "    web_name second_name  team_id team_name  cost_now  goals_scored  \\\n",
       "557     Kane        Kane       17     Spurs      11.8            21   \n",
       "\n",
       "     goals_conceded  assists  total_points  minutes  creativity  influence  \\\n",
       "557              32       13           218     2633       547.0     1192.6   \n",
       "\n",
       "     threat  bonus  bps  ict_index  clean_sheets  red_cards  yellow_cards  \\\n",
       "557  1342.0     37  797      307.8            10          0             1   \n",
       "\n",
       "     selected_by_percent  element_type  chance_of_playing_next_round  form  \\\n",
       "557                 45.4             4                         100.0   6.8   \n",
       "\n",
       "     transfers_in  transfers_out        ROI  \n",
       "557       7665116        5571932  18.474576  "
      ]
     },
     "execution_count": 40,
     "metadata": {
      "tags": []
     },
     "output_type": "execute_result"
    }
   ],
   "source": [
    "FWD_data[FWD_data['selected_by_percent'] == 45.400000]"
   ]
  },
  {
   "cell_type": "markdown",
   "metadata": {
    "id": "_BmcDk5tmr6X"
   },
   "source": [
    "HA! Like I said, the statistics, and the data show that Kane is the most selected forward by other fantasy squads and rightly so. There is almost a 50 point difference between Kane and the next striker Bamford. Even with Kane being extremely expensive at 11.8 million, his ROI puts him in the 6th position among the strikers in the league which is honestly very impressive! Therefore, choosing Kane is a natural option, lets see if we can back that up and pick our other two strikers."
   ]
  },
  {
   "cell_type": "code",
   "execution_count": null,
   "metadata": {
    "colab": {
     "base_uri": "https://localhost:8080/",
     "height": 622
    },
    "id": "O6Fz3GXUmr_f",
    "outputId": "ab859dc8-0a66-4687-f7ac-024cca6b683f"
   },
   "outputs": [
    {
     "data": {
      "image/png": "[encoded data removed]",
      "text/plain": [
       "<Figure size 1224x720 with 1 Axes>"
      ]
     },
     "metadata": {
      "needs_background": "light",
      "tags": []
     },
     "output_type": "display_data"
    }
   ],
   "source": [
    "# Forwards cost vs. points comparison\n",
    "\n",
    "build_sorted_scatter_comparison(FWD_data, 'cost_now','total_points','Forwards')"
   ]
  },
  {
   "cell_type": "markdown",
   "metadata": {
    "id": "LEG3vvJbmsCc"
   },
   "source": [
    "It seems as though another pick for our forwards line-up is apparent. We can see the second highest points scorer Bamford is also affordable with a great ROI. He makes for a great pick this season. \n",
    "\n",
    "We can also isolate a few great potential 3rd picks for us. Watkins and Calvert-Lewin are good budget options while Vardy is a great choice if we have the budget for it. Although consistency is key, lets see if there are any players who have recently been performing better and scoring goals. "
   ]
  },
  {
   "cell_type": "code",
   "execution_count": null,
   "metadata": {
    "colab": {
     "base_uri": "https://localhost:8080/",
     "height": 621
    },
    "id": "1xMV_uhjmsGT",
    "outputId": "57840abd-8a07-4398-fea6-ea5a72956c40"
   },
   "outputs": [
    {
     "data": {
      "image/png": "[encoded data removed]",
      "text/plain": [
       "<Figure size 1224x720 with 1 Axes>"
      ]
     },
     "metadata": {
      "needs_background": "light",
      "tags": []
     },
     "output_type": "display_data"
    }
   ],
   "source": [
    "# Forwards form vs points comparison\n",
    "\n",
    "build_sorted_scatter_comparison(FWD_data, 'form','total_points','Forwards')"
   ]
  },
  {
   "cell_type": "markdown",
   "metadata": {
    "id": "gLVw3mbVmsKh"
   },
   "source": [
    "Wood is the clear winner in terms of form performance as we can see, but for lesser but still good form, Watkins has more points and a better ROI. It looks as though he is the best pick right now. \n",
    "\n",
    "With that we can finalize our forwards and team itself."
   ]
  },
  {
   "cell_type": "markdown",
   "metadata": {
    "id": "uVgYMSlImsO-"
   },
   "source": [
    "**Final Conclusion:**\n",
    "\n",
    "Picks: <font size=\"4\">**Kane, Bamford, Watkins** </font>\n",
    "\n",
    "Additional picks if budget allows: **Vardy, Calvert-Lewin**\n"
   ]
  },
  {
   "cell_type": "code",
   "execution_count": null,
   "metadata": {
    "colab": {
     "base_uri": "https://localhost:8080/"
    },
    "id": "l1uDT9tEnZID",
    "outputId": "ed35b76d-253d-4c8b-e41b-2100bb5e08f6"
   },
   "outputs": [
    {
     "name": "stdout",
     "output_type": "stream",
     "text": [
      "24.9\n"
     ]
    }
   ],
   "source": [
    "# finding cost of Forwards\n",
    "\n",
    "players = ['Kane','Bamford','Watkins']\n",
    "print(get_cost(FWD_data,players))"
   ]
  },
  {
   "cell_type": "markdown",
   "metadata": {
    "id": "Yq7SlOwLmsUi"
   },
   "source": [
    "**Total cost** = 24.9 million"
   ]
  },
  {
   "cell_type": "markdown",
   "metadata": {
    "id": "9gizE2oOmscA"
   },
   "source": [
    "## The Squad"
   ]
  },
  {
   "cell_type": "markdown",
   "metadata": {
    "id": "Y1RfMzV8nhNf"
   },
   "source": [
    "We have our proposed squad now, but we need to see if we meet all the legal requirements of our squad as outlined in the start. \n",
    "\n",
    "A small look at our picks reveal that we have too many players from Leeds United, but our budget (3.3 remaining), and everything else is fine. Currently, we have 4 players in our 'picks' from Leeds: Meslier, Dallas, Harrison, Bamford. \n",
    "\n",
    "We have to substitute the worst performing player out of the 4 for one of our back-up options within our remaining budget. Let us look at the 4 players here."
   ]
  },
  {
   "cell_type": "code",
   "execution_count": null,
   "metadata": {
    "colab": {
     "base_uri": "https://localhost:8080/",
     "height": 187
    },
    "id": "V27IY0D0nhVj",
    "outputId": "1303cd8f-a65a-466e-ad7f-b136bc4b49da"
   },
   "outputs": [
    {
     "data": {
      "text/html": [
       "<div>\n",
       "<style scoped>\n",
       "    .dataframe tbody tr th:only-of-type {\n",
       "        vertical-align: middle;\n",
       "    }\n",
       "\n",
       "    .dataframe tbody tr th {\n",
       "        vertical-align: top;\n",
       "    }\n",
       "\n",
       "    .dataframe thead th {\n",
       "        text-align: right;\n",
       "    }\n",
       "</style>\n",
       "<table border=\"1\" class=\"dataframe\">\n",
       "  <thead>\n",
       "    <tr style=\"text-align: right;\">\n",
       "      <th></th>\n",
       "      <th>web_name</th>\n",
       "      <th>second_name</th>\n",
       "      <th>team_id</th>\n",
       "      <th>team_name</th>\n",
       "      <th>cost_now</th>\n",
       "      <th>goals_scored</th>\n",
       "      <th>goals_conceded</th>\n",
       "      <th>assists</th>\n",
       "      <th>total_points</th>\n",
       "      <th>minutes</th>\n",
       "      <th>creativity</th>\n",
       "      <th>influence</th>\n",
       "      <th>threat</th>\n",
       "      <th>bonus</th>\n",
       "      <th>bps</th>\n",
       "      <th>ict_index</th>\n",
       "      <th>clean_sheets</th>\n",
       "      <th>red_cards</th>\n",
       "      <th>yellow_cards</th>\n",
       "      <th>selected_by_percent</th>\n",
       "      <th>element_type</th>\n",
       "      <th>chance_of_playing_next_round</th>\n",
       "      <th>form</th>\n",
       "      <th>transfers_in</th>\n",
       "      <th>transfers_out</th>\n",
       "      <th>ROI</th>\n",
       "    </tr>\n",
       "  </thead>\n",
       "  <tbody>\n",
       "    <tr>\n",
       "      <th>315</th>\n",
       "      <td>Dallas</td>\n",
       "      <td>Dallas</td>\n",
       "      <td>10</td>\n",
       "      <td>Leeds</td>\n",
       "      <td>5.3</td>\n",
       "      <td>7</td>\n",
       "      <td>49</td>\n",
       "      <td>3</td>\n",
       "      <td>148</td>\n",
       "      <td>2960</td>\n",
       "      <td>364.1</td>\n",
       "      <td>679.8</td>\n",
       "      <td>428.0</td>\n",
       "      <td>14</td>\n",
       "      <td>627</td>\n",
       "      <td>147.5</td>\n",
       "      <td>10</td>\n",
       "      <td>0</td>\n",
       "      <td>6</td>\n",
       "      <td>26.9</td>\n",
       "      <td>2</td>\n",
       "      <td>NaN</td>\n",
       "      <td>6.5</td>\n",
       "      <td>3348985</td>\n",
       "      <td>1567631</td>\n",
       "      <td>27.924528</td>\n",
       "    </tr>\n",
       "    <tr>\n",
       "      <th>317</th>\n",
       "      <td>Bamford</td>\n",
       "      <td>Bamford</td>\n",
       "      <td>10</td>\n",
       "      <td>Leeds</td>\n",
       "      <td>6.5</td>\n",
       "      <td>14</td>\n",
       "      <td>47</td>\n",
       "      <td>10</td>\n",
       "      <td>165</td>\n",
       "      <td>2724</td>\n",
       "      <td>327.2</td>\n",
       "      <td>729.2</td>\n",
       "      <td>1309.0</td>\n",
       "      <td>19</td>\n",
       "      <td>525</td>\n",
       "      <td>236.0</td>\n",
       "      <td>9</td>\n",
       "      <td>0</td>\n",
       "      <td>3</td>\n",
       "      <td>43.5</td>\n",
       "      <td>4</td>\n",
       "      <td>100.0</td>\n",
       "      <td>2.2</td>\n",
       "      <td>7391557</td>\n",
       "      <td>4746111</td>\n",
       "      <td>25.384615</td>\n",
       "    </tr>\n",
       "    <tr>\n",
       "      <th>318</th>\n",
       "      <td>Harrison</td>\n",
       "      <td>Harrison</td>\n",
       "      <td>10</td>\n",
       "      <td>Leeds</td>\n",
       "      <td>5.4</td>\n",
       "      <td>7</td>\n",
       "      <td>41</td>\n",
       "      <td>7</td>\n",
       "      <td>132</td>\n",
       "      <td>2396</td>\n",
       "      <td>683.5</td>\n",
       "      <td>630.4</td>\n",
       "      <td>580.0</td>\n",
       "      <td>13</td>\n",
       "      <td>446</td>\n",
       "      <td>189.8</td>\n",
       "      <td>9</td>\n",
       "      <td>0</td>\n",
       "      <td>2</td>\n",
       "      <td>3.2</td>\n",
       "      <td>3</td>\n",
       "      <td>100.0</td>\n",
       "      <td>5.2</td>\n",
       "      <td>872789</td>\n",
       "      <td>734723</td>\n",
       "      <td>24.444444</td>\n",
       "    </tr>\n",
       "    <tr>\n",
       "      <th>328</th>\n",
       "      <td>Meslier</td>\n",
       "      <td>Meslier</td>\n",
       "      <td>10</td>\n",
       "      <td>Leeds</td>\n",
       "      <td>4.7</td>\n",
       "      <td>0</td>\n",
       "      <td>49</td>\n",
       "      <td>0</td>\n",
       "      <td>143</td>\n",
       "      <td>2880</td>\n",
       "      <td>10.0</td>\n",
       "      <td>954.2</td>\n",
       "      <td>0.0</td>\n",
       "      <td>20</td>\n",
       "      <td>715</td>\n",
       "      <td>96.5</td>\n",
       "      <td>10</td>\n",
       "      <td>0</td>\n",
       "      <td>0</td>\n",
       "      <td>7.2</td>\n",
       "      <td>1</td>\n",
       "      <td>100.0</td>\n",
       "      <td>4.5</td>\n",
       "      <td>1043329</td>\n",
       "      <td>625453</td>\n",
       "      <td>30.425532</td>\n",
       "    </tr>\n",
       "  </tbody>\n",
       "</table>\n",
       "</div>"
      ],
      "text/plain": [
       "     web_name second_name  team_id team_name  cost_now  goals_scored  \\\n",
       "315    Dallas      Dallas       10     Leeds       5.3             7   \n",
       "317   Bamford     Bamford       10     Leeds       6.5            14   \n",
       "318  Harrison    Harrison       10     Leeds       5.4             7   \n",
       "328   Meslier     Meslier       10     Leeds       4.7             0   \n",
       "\n",
       "     goals_conceded  assists  total_points  minutes  creativity  influence  \\\n",
       "315              49        3           148     2960       364.1      679.8   \n",
       "317              47       10           165     2724       327.2      729.2   \n",
       "318              41        7           132     2396       683.5      630.4   \n",
       "328              49        0           143     2880        10.0      954.2   \n",
       "\n",
       "     threat  bonus  bps  ict_index  clean_sheets  red_cards  yellow_cards  \\\n",
       "315   428.0     14  627      147.5            10          0             6   \n",
       "317  1309.0     19  525      236.0             9          0             3   \n",
       "318   580.0     13  446      189.8             9          0             2   \n",
       "328     0.0     20  715       96.5            10          0             0   \n",
       "\n",
       "     selected_by_percent  element_type  chance_of_playing_next_round  form  \\\n",
       "315                 26.9             2                           NaN   6.5   \n",
       "317                 43.5             4                         100.0   2.2   \n",
       "318                  3.2             3                         100.0   5.2   \n",
       "328                  7.2             1                         100.0   4.5   \n",
       "\n",
       "     transfers_in  transfers_out        ROI  \n",
       "315       3348985        1567631  27.924528  \n",
       "317       7391557        4746111  25.384615  \n",
       "318        872789         734723  24.444444  \n",
       "328       1043329         625453  30.425532  "
      ]
     },
     "execution_count": 44,
     "metadata": {
      "tags": []
     },
     "output_type": "execute_result"
    }
   ],
   "source": [
    "leeds_extra = player_data[player_data['web_name'].isin(['Meslier','Dallas','Harrison','Bamford'])]\n",
    "leeds_extra"
   ]
  },
  {
   "cell_type": "markdown",
   "metadata": {
    "id": "MsFSMLQGnhd0"
   },
   "source": [
    "As we see above, among the 4 players, Harrison has the least ROI and total points, making him the ideal candidate for elimination. Harrison also happens to be the cheapest player, even among most other players in our squad. \n",
    "\n",
    "This right here is why our ROI model helped us out in the overall team picking. It allowed us to pick the best options at affordable prices. Now, we have enough budget remaining to select a better defender from our back-up options. \n",
    "\n",
    "If we see our options, we can substitute Harrison for Salah,Son, or Rashford, but these expensive picks are unfortunately all out of our budget of 8.7 million. The next best option using the cross-referencing technique we did earlier is **Soucek**, so we will put him in our squad."
   ]
  },
  {
   "cell_type": "markdown",
   "metadata": {
    "id": "6HFIOptmnhmG"
   },
   "source": [
    "Now, it seems like our squad is done, but we have **3.5 million in the bank still left**. Since we have the best picks at the cost for our midfielders and forwards, we can use our reserve budget to swap out a few players for our defence. \n",
    "\n",
    "The two players with the lowest total points are **Shaw and Targett**. With the additional budget of 3.5 million, we are able to not only swap out one, but both of them for our high budget alternatives mentioned earlier. Using this, we can bring in **Robertson and Cancelo**, the next best picks right now. "
   ]
  },
  {
   "cell_type": "markdown",
   "metadata": {
    "id": "kUOXhu7Knhs7"
   },
   "source": [
    "With that **OUR SQUAD IS FINISHED**. Here is how it looks."
   ]
  },
  {
   "cell_type": "markdown",
   "metadata": {
    "id": "2uYqYSN3nh0U"
   },
   "source": [
    "![](http://drive.google.com/uc?export=view&id=1144j8voPajd64VhYTj6GNWQtmff4pV5d)"
   ]
  },
  {
   "cell_type": "markdown",
   "metadata": {
    "id": "Wmm3nH0Ynh7C"
   },
   "source": [
    "We have all the players picked out. The total squad cost is **99.1 million** and our remaining budget is **0.9 million** ; A close but effective output. \n",
    "\n",
    "But, our work is not yet done, we still have to decide the 11 players who start the game week, and the 4 who will sit on the bench as substitutes. This is what the next predictive section will discuss. "
   ]
  },
  {
   "cell_type": "markdown",
   "metadata": {
    "id": "kA7VnWLpniEe"
   },
   "source": [
    "# Predictive Analysis and evaluation"
   ]
  },
  {
   "cell_type": "markdown",
   "metadata": {
    "id": "678LvxwKniMg"
   },
   "source": [
    "Now that we have our team, we can use individual player data to build and predict our model.  "
   ]
  },
  {
   "cell_type": "code",
   "execution_count": null,
   "metadata": {
    "collapsed": true,
    "id": "dcFvkUX6oOkP"
   },
   "outputs": [],
   "source": [
    "def install_player_data():\n",
    "    \n",
    "    '''\n",
    "    This function installs all the player data for the analysis and evaluation.\n",
    "    The players featured here are the ones finalized from the data analysis. \n",
    "    The squad is composed of 15 players.\n",
    "    \n",
    "    In each player data, gameweek-by-gameweek statistics are given detailing multiple columns of total points,\n",
    "    and other statistics like goals, assists, clean sheets, home or away game, etc.\n",
    "    \n",
    "\n",
    "    '''\n",
    "    \n",
    "    Martínez_data = pd.read_csv('https://drive.google.com/uc?export=download&id=1z1elMejkbsVgCP8JPwTPMaMvQasWOUAU')\n",
    "    Meslier_data = pd.read_csv('https://drive.google.com/uc?export=download&id=1AIMboyktZGS8w3LFY48SeQuAOLdW33Qb')\n",
    "    Cancelo_data = pd.read_csv('https://drive.google.com/uc?export=download&id=1-_S2dAD-Ay6yD_6CSf6OikTmfeW94Qmm')\n",
    "    Dallas_data = pd.read_csv('https://drive.google.com/uc?export=download&id=1yyLmHXN-sTj-i1Oz_iLQyA8EojIATq18')\n",
    "    Dunk_data = pd.read_csv('https://drive.google.com/uc?export=download&id=1xP795pkTvfzwBechaYH7S6lNCVNXV92K')\n",
    "    WanBissaka_data = pd.read_csv('https://drive.google.com/uc?export=download&id=1bvkyGhp1DHcQHanm_mW93r2kcOEtKNGX')\n",
    "    Robertson_data = pd.read_csv('https://drive.google.com/uc?export=download&id=1sWCIl2H1AHbhE3GXscVECujdgOPM-35W')\n",
    "    Fernandes_data = pd.read_csv('https://drive.google.com/uc?export=download&id=1remudFueQL9oWe5lVRs2wLh-VQ1Ztzj3')\n",
    "    WardProwse_data = pd.read_csv('https://drive.google.com/uc?export=download&id=1A0WBpOErdhYH2Ve6eXRxfi0knUzfWBVc')\n",
    "    Mount_data = pd.read_csv('https://drive.google.com/uc?export=download&id=1aT-voKVh3EdGVDKM-6VOGPNX7798a5lb')\n",
    "    Soucek_data = pd.read_csv('https://drive.google.com/uc?export=download&id=1Ef4O6JguwkYS5oTLHmCYxizS5mUAcIzq')\n",
    "    Pereira_data = pd.read_csv('https://drive.google.com/uc?export=download&id=1CSAM5grcmlcCQrlCaU6UK6IKO0qp3BbX')\n",
    "    Kane_data = pd.read_csv('https://drive.google.com/uc?export=download&id=1L3FKoxelMxzMptnLlqBv_9wf9M3emYFb')\n",
    "    Bamford_data = pd.read_csv('https://drive.google.com/uc?export=download&id=1xYvPbDdAKok3zptMLrSTiEj7DvVY1ECz')\n",
    "    Watkins_data = pd.read_csv('https://drive.google.com/uc?export=download&id=1LAkOpIGoUNjVaYDOT6WFD7jAZN_5wdog')\n",
    "    \n",
    "    return Martínez_data, Meslier_data, Cancelo_data, Dallas_data, Dunk_data, WanBissaka_data, Robertson_data, Fernandes_data, WardProwse_data, Mount_data, Soucek_data, Pereira_data, Kane_data, Bamford_data, Watkins_data"
   ]
  },
  {
   "cell_type": "code",
   "execution_count": null,
   "metadata": {
    "collapsed": true,
    "id": "6VNEFtg8oOtJ"
   },
   "outputs": [],
   "source": [
    "# loading player datasets\n",
    "Martínez_data, Meslier_data, Cancelo_data, Dallas_data, Dunk_data, WanBissaka_data, Robertson_data, Fernandes_data, WardProwse_data, Mount_data, Soucek_data, Pereira_data, Kane_data, Bamford_data, Watkins_data = install_player_data()"
   ]
  },
  {
   "cell_type": "markdown",
   "metadata": {
    "id": "jOwqDYBhoO0o"
   },
   "source": [
    "Let us take a look at one of the datasets.  "
   ]
  },
  {
   "cell_type": "code",
   "execution_count": null,
   "metadata": {
    "colab": {
     "base_uri": "https://localhost:8080/",
     "height": 301
    },
    "id": "5abtTv6koO9X",
    "outputId": "aed560db-65ac-4ba9-8a9e-e32bb2a3740d"
   },
   "outputs": [
    {
     "data": {
      "text/html": [
       "<div>\n",
       "<style scoped>\n",
       "    .dataframe tbody tr th:only-of-type {\n",
       "        vertical-align: middle;\n",
       "    }\n",
       "\n",
       "    .dataframe tbody tr th {\n",
       "        vertical-align: top;\n",
       "    }\n",
       "\n",
       "    .dataframe thead th {\n",
       "        text-align: right;\n",
       "    }\n",
       "</style>\n",
       "<table border=\"1\" class=\"dataframe\">\n",
       "  <thead>\n",
       "    <tr style=\"text-align: right;\">\n",
       "      <th></th>\n",
       "      <th>assists</th>\n",
       "      <th>bonus</th>\n",
       "      <th>bps</th>\n",
       "      <th>clean_sheets</th>\n",
       "      <th>creativity</th>\n",
       "      <th>element</th>\n",
       "      <th>fixture</th>\n",
       "      <th>goals_conceded</th>\n",
       "      <th>goals_scored</th>\n",
       "      <th>ict_index</th>\n",
       "      <th>influence</th>\n",
       "      <th>kickoff_time</th>\n",
       "      <th>minutes</th>\n",
       "      <th>opponent_team</th>\n",
       "      <th>own_goals</th>\n",
       "      <th>penalties_missed</th>\n",
       "      <th>penalties_saved</th>\n",
       "      <th>red_cards</th>\n",
       "      <th>round</th>\n",
       "      <th>saves</th>\n",
       "      <th>selected</th>\n",
       "      <th>team_a_score</th>\n",
       "      <th>team_h_score</th>\n",
       "      <th>threat</th>\n",
       "      <th>total_points</th>\n",
       "      <th>transfers_balance</th>\n",
       "      <th>transfers_in</th>\n",
       "      <th>transfers_out</th>\n",
       "      <th>value</th>\n",
       "      <th>was_home</th>\n",
       "      <th>yellow_cards</th>\n",
       "    </tr>\n",
       "  </thead>\n",
       "  <tbody>\n",
       "    <tr>\n",
       "      <th>0</th>\n",
       "      <td>0</td>\n",
       "      <td>0</td>\n",
       "      <td>13</td>\n",
       "      <td>0</td>\n",
       "      <td>78.4</td>\n",
       "      <td>302</td>\n",
       "      <td>15</td>\n",
       "      <td>3</td>\n",
       "      <td>0</td>\n",
       "      <td>12.9</td>\n",
       "      <td>25.6</td>\n",
       "      <td>2020-09-19T16:30:00Z</td>\n",
       "      <td>90</td>\n",
       "      <td>6</td>\n",
       "      <td>0</td>\n",
       "      <td>0</td>\n",
       "      <td>0</td>\n",
       "      <td>0</td>\n",
       "      <td>2</td>\n",
       "      <td>0</td>\n",
       "      <td>1623046</td>\n",
       "      <td>3</td>\n",
       "      <td>1</td>\n",
       "      <td>25.0</td>\n",
       "      <td>2</td>\n",
       "      <td>451998</td>\n",
       "      <td>525858</td>\n",
       "      <td>73860</td>\n",
       "      <td>105</td>\n",
       "      <td>True</td>\n",
       "      <td>0</td>\n",
       "    </tr>\n",
       "    <tr>\n",
       "      <th>1</th>\n",
       "      <td>1</td>\n",
       "      <td>3</td>\n",
       "      <td>40</td>\n",
       "      <td>0</td>\n",
       "      <td>40.8</td>\n",
       "      <td>302</td>\n",
       "      <td>19</td>\n",
       "      <td>2</td>\n",
       "      <td>1</td>\n",
       "      <td>12.0</td>\n",
       "      <td>60.6</td>\n",
       "      <td>2020-09-26T11:30:00Z</td>\n",
       "      <td>90</td>\n",
       "      <td>3</td>\n",
       "      <td>0</td>\n",
       "      <td>0</td>\n",
       "      <td>0</td>\n",
       "      <td>0</td>\n",
       "      <td>3</td>\n",
       "      <td>0</td>\n",
       "      <td>1344788</td>\n",
       "      <td>3</td>\n",
       "      <td>2</td>\n",
       "      <td>19.0</td>\n",
       "      <td>12</td>\n",
       "      <td>-274258</td>\n",
       "      <td>80386</td>\n",
       "      <td>354644</td>\n",
       "      <td>105</td>\n",
       "      <td>False</td>\n",
       "      <td>1</td>\n",
       "    </tr>\n",
       "    <tr>\n",
       "      <th>2</th>\n",
       "      <td>0</td>\n",
       "      <td>0</td>\n",
       "      <td>21</td>\n",
       "      <td>0</td>\n",
       "      <td>16.6</td>\n",
       "      <td>302</td>\n",
       "      <td>35</td>\n",
       "      <td>4</td>\n",
       "      <td>1</td>\n",
       "      <td>7.5</td>\n",
       "      <td>35.4</td>\n",
       "      <td>2020-10-04T15:30:00Z</td>\n",
       "      <td>45</td>\n",
       "      <td>17</td>\n",
       "      <td>0</td>\n",
       "      <td>0</td>\n",
       "      <td>0</td>\n",
       "      <td>0</td>\n",
       "      <td>4</td>\n",
       "      <td>0</td>\n",
       "      <td>1473422</td>\n",
       "      <td>6</td>\n",
       "      <td>1</td>\n",
       "      <td>23.0</td>\n",
       "      <td>6</td>\n",
       "      <td>76237</td>\n",
       "      <td>187021</td>\n",
       "      <td>110784</td>\n",
       "      <td>105</td>\n",
       "      <td>True</td>\n",
       "      <td>0</td>\n",
       "    </tr>\n",
       "    <tr>\n",
       "      <th>3</th>\n",
       "      <td>1</td>\n",
       "      <td>3</td>\n",
       "      <td>49</td>\n",
       "      <td>0</td>\n",
       "      <td>78.7</td>\n",
       "      <td>302</td>\n",
       "      <td>45</td>\n",
       "      <td>1</td>\n",
       "      <td>1</td>\n",
       "      <td>22.0</td>\n",
       "      <td>85.4</td>\n",
       "      <td>2020-10-17T19:00:00Z</td>\n",
       "      <td>90</td>\n",
       "      <td>14</td>\n",
       "      <td>0</td>\n",
       "      <td>1</td>\n",
       "      <td>0</td>\n",
       "      <td>0</td>\n",
       "      <td>5</td>\n",
       "      <td>0</td>\n",
       "      <td>1508759</td>\n",
       "      <td>4</td>\n",
       "      <td>1</td>\n",
       "      <td>56.0</td>\n",
       "      <td>11</td>\n",
       "      <td>-1258</td>\n",
       "      <td>192662</td>\n",
       "      <td>193920</td>\n",
       "      <td>105</td>\n",
       "      <td>False</td>\n",
       "      <td>0</td>\n",
       "    </tr>\n",
       "    <tr>\n",
       "      <th>4</th>\n",
       "      <td>0</td>\n",
       "      <td>0</td>\n",
       "      <td>14</td>\n",
       "      <td>1</td>\n",
       "      <td>60.9</td>\n",
       "      <td>302</td>\n",
       "      <td>55</td>\n",
       "      <td>0</td>\n",
       "      <td>0</td>\n",
       "      <td>9.6</td>\n",
       "      <td>18.6</td>\n",
       "      <td>2020-10-24T16:30:00Z</td>\n",
       "      <td>90</td>\n",
       "      <td>5</td>\n",
       "      <td>0</td>\n",
       "      <td>0</td>\n",
       "      <td>0</td>\n",
       "      <td>0</td>\n",
       "      <td>6</td>\n",
       "      <td>0</td>\n",
       "      <td>1609144</td>\n",
       "      <td>0</td>\n",
       "      <td>0</td>\n",
       "      <td>16.0</td>\n",
       "      <td>3</td>\n",
       "      <td>85046</td>\n",
       "      <td>163779</td>\n",
       "      <td>78733</td>\n",
       "      <td>105</td>\n",
       "      <td>True</td>\n",
       "      <td>0</td>\n",
       "    </tr>\n",
       "  </tbody>\n",
       "</table>\n",
       "</div>"
      ],
      "text/plain": [
       "   assists  bonus  bps  clean_sheets  creativity  element  fixture  \\\n",
       "0        0      0   13             0        78.4      302       15   \n",
       "1        1      3   40             0        40.8      302       19   \n",
       "2        0      0   21             0        16.6      302       35   \n",
       "3        1      3   49             0        78.7      302       45   \n",
       "4        0      0   14             1        60.9      302       55   \n",
       "\n",
       "   goals_conceded  goals_scored  ict_index  influence          kickoff_time  \\\n",
       "0               3             0       12.9       25.6  2020-09-19T16:30:00Z   \n",
       "1               2             1       12.0       60.6  2020-09-26T11:30:00Z   \n",
       "2               4             1        7.5       35.4  2020-10-04T15:30:00Z   \n",
       "3               1             1       22.0       85.4  2020-10-17T19:00:00Z   \n",
       "4               0             0        9.6       18.6  2020-10-24T16:30:00Z   \n",
       "\n",
       "   minutes  opponent_team  own_goals  penalties_missed  penalties_saved  \\\n",
       "0       90              6          0                 0                0   \n",
       "1       90              3          0                 0                0   \n",
       "2       45             17          0                 0                0   \n",
       "3       90             14          0                 1                0   \n",
       "4       90              5          0                 0                0   \n",
       "\n",
       "   red_cards  round  saves  selected  team_a_score  team_h_score  threat  \\\n",
       "0          0      2      0   1623046             3             1    25.0   \n",
       "1          0      3      0   1344788             3             2    19.0   \n",
       "2          0      4      0   1473422             6             1    23.0   \n",
       "3          0      5      0   1508759             4             1    56.0   \n",
       "4          0      6      0   1609144             0             0    16.0   \n",
       "\n",
       "   total_points  transfers_balance  transfers_in  transfers_out  value  \\\n",
       "0             2             451998        525858          73860    105   \n",
       "1            12            -274258         80386         354644    105   \n",
       "2             6              76237        187021         110784    105   \n",
       "3            11              -1258        192662         193920    105   \n",
       "4             3              85046        163779          78733    105   \n",
       "\n",
       "   was_home  yellow_cards  \n",
       "0      True             0  \n",
       "1     False             1  \n",
       "2      True             0  \n",
       "3     False             0  \n",
       "4      True             0  "
      ]
     },
     "execution_count": 49,
     "metadata": {
      "tags": []
     },
     "output_type": "execute_result"
    }
   ],
   "source": [
    "Fernandes_data.head()"
   ]
  },
  {
   "cell_type": "markdown",
   "metadata": {
    "id": "c-auyUfWoPFH"
   },
   "source": [
    "While most of the columns provide useful information that we can use in future models, our goal here is to use the total points per gameweek and the gameweek number to create regression models to predict our next week's score for the player. \n",
    "\n",
    "To do this, we can sample our process by going through the steps to find the best model using one test dataset and apply it to all players. Let us use Fernandes' data to go through this process. \n"
   ]
  },
  {
   "cell_type": "markdown",
   "metadata": {
    "id": "eNS8hEKKoPM2"
   },
   "source": [
    "Let us define a few functions to help us get through this process much easier."
   ]
  },
  {
   "cell_type": "code",
   "execution_count": null,
   "metadata": {
    "collapsed": true,
    "id": "ysGo8bl4oPV9"
   },
   "outputs": [],
   "source": [
    "def get_data(data):\n",
    "    \n",
    "    '''\n",
    "    This function presents the necessary player data which we will be regressing on, \n",
    "    which are gameweeks and total_points. \n",
    "    \n",
    "    We use the cumulative total points of the player rather than just the points per week as it is easier\n",
    "    to predict using regression as well as plot the fitted line with this output.\n",
    "    \n",
    "    '''\n",
    "    df = data.copy()\n",
    "    df['cumulative_points'] = df['total_points'].cumsum(axis=0)\n",
    "    df['gameweek'] = df['round']\n",
    "    return df[['cumulative_points','gameweek']]\n",
    "\n",
    "def make_linear_regression(x,y,GW_to_predict):\n",
    "    \n",
    "    '''\n",
    "    This function makes the linear regression model we use to predict and show our result.\n",
    "    The series data is reshaped to fit the function by scikit learn. \n",
    "    \n",
    "    GW_to_predict is the gameweek number we want to forecast based on our regression result. \n",
    "    \n",
    "    '''\n",
    "     \n",
    "    xv = x.to_numpy().reshape(-1,1)\n",
    "    yv = y.to_numpy()\n",
    "    to_predict = np.array([GW_to_predict]).reshape(-1,1)\n",
    "    lr = LinearRegression().fit(xv, yv)\n",
    "    y_predict = lr.predict(xv)\n",
    "    \n",
    "    forecast = lr.predict(to_predict)\n",
    "    \n",
    "    return xv,yv,y_predict,forecast\n",
    "\n",
    "def plot_lr_points(data):\n",
    "    \n",
    "    '''\n",
    "    This function plots the linear regression output along with the fitted line \n",
    "    '''\n",
    "    xv,yv,y_predict,next_forecast = make_linear_regression(data['gameweek'],data['cumulative_points'],34)\n",
    "    \n",
    "    fig = plt.subplots()\n",
    "    \n",
    "    plt.scatter(xv,yv)\n",
    "    plt.plot(xv, y_predict,color='k')\n",
    "    plt.xlabel('Gameweeks')\n",
    "    plt.ylabel('Cumulative points')\n",
    "    plt.title('Player Gameweek vs Cumulative points (line of best fit shown)')\n",
    "    \n",
    "    return fig \n"
   ]
  },
  {
   "cell_type": "code",
   "execution_count": null,
   "metadata": {
    "colab": {
     "base_uri": "https://localhost:8080/",
     "height": 365
    },
    "id": "2ebRQGbyoPe8",
    "outputId": "279674b7-efc0-48d7-ec57-82a764471d61"
   },
   "outputs": [
    {
     "name": "stdout",
     "output_type": "stream",
     "text": [
      "The forecast for next GW is: [247.76008897]\n",
      "Points earned for next week 26\n"
     ]
    },
    {
     "data": {
      "text/plain": [
       "(<Figure size 432x288 with 1 Axes>,\n",
       " <matplotlib.axes._subplots.AxesSubplot at 0x7fe62c7cc810>)"
      ]
     },
     "execution_count": 51,
     "metadata": {
      "tags": []
     },
     "output_type": "execute_result"
    },
    {
     "data": {
      "image/png": "[encoded data removed]",
      "text/plain": [
       "<Figure size 432x288 with 1 Axes>"
      ]
     },
     "metadata": {
      "needs_background": "light",
      "tags": []
     },
     "output_type": "display_data"
    }
   ],
   "source": [
    "# Showing next gameweek's prediction, and plotting points and line of best fit.  \n",
    "\n",
    "xv_test,yv_test,y_predict_test,forecast_test = make_linear_regression(get_data(Fernandes_data)['gameweek'],get_data(Fernandes_data)['cumulative_points'],34)\n",
    "print('The forecast for next GW is:',forecast_test)\n",
    "print('Points earned for next week %d' % (forecast_test - get_data(Fernandes_data)['cumulative_points'][-1:]))\n",
    "plot_lr_points(get_data(Fernandes_data))"
   ]
  },
  {
   "cell_type": "markdown",
   "metadata": {
    "id": "ypd0FpbjoPp9"
   },
   "source": [
    "Awesome ! We got our prediction for next week, but it seems that it looks extremely unlikely. The line that fit the data has grossly overestimated the number of points Fernandes would earn next week, which is 26. That is extremely high and does not seem like a resonable value. \n",
    "\n",
    "Lets see if a polynomial fit is better. "
   ]
  },
  {
   "cell_type": "code",
   "execution_count": null,
   "metadata": {
    "collapsed": true,
    "id": "wxiE-vXPoP0F"
   },
   "outputs": [],
   "source": [
    "def make_poly_regression(x,y,degree,GW_to_predict):\n",
    "    '''\n",
    "    Similar to the linear regression model, this function implements a polynomial regression model\n",
    "    \n",
    "    '''\n",
    "    \n",
    "    xv = x.to_numpy().reshape(-1,1)\n",
    "    yv = y.to_numpy()\n",
    "    to_predict = np.array([GW_to_predict]).reshape(-1,1)\n",
    "    \n",
    "    poly_reg = PolynomialFeatures(degree=degree)\n",
    "    xv_poly = poly_reg.fit_transform(xv)\n",
    "        \n",
    "    lin = LinearRegression()\n",
    "    lin.fit(xv_poly, y)\n",
    "    \n",
    "    y_predict = lin.predict(poly_reg.fit_transform(xv))\n",
    "    forecast = lin.predict(poly_reg.fit_transform(to_predict))\n",
    "    \n",
    "    return xv,yv,y_predict,forecast\n",
    "\n",
    "def plot_poly_points(data,degree):\n",
    "    \n",
    "    '''\n",
    "    This function plots the linear regression output along with the fitted line \n",
    "    '''\n",
    "    xv,yv,y_predict,next_forecast = make_poly_regression(data['gameweek'],data['cumulative_points'],degree,34)\n",
    "    \n",
    "    fig = plt.subplots()\n",
    "    \n",
    "    plt.scatter(xv,yv)\n",
    "    plt.plot(xv, y_predict,color='k')\n",
    "    plt.xlabel('Gameweeks')\n",
    "    plt.ylabel('Cumulative points')\n",
    "    plt.title('Player Gameweek vs Cumulative points (line of best fit shown)')\n",
    "    \n",
    "    return fig \n"
   ]
  },
  {
   "cell_type": "markdown",
   "metadata": {
    "id": "BA67Fy3HpCD2"
   },
   "source": [
    "Lets see how our polynomial regression does for degree 2,3, and 4. We note that overfitting the model gives us an unexpectedly low points predicted in the next week. We would like some predicting power with lower degrees."
   ]
  },
  {
   "cell_type": "code",
   "execution_count": null,
   "metadata": {
    "colab": {
     "base_uri": "https://localhost:8080/",
     "height": 365
    },
    "id": "rUrXjvz4pCL9",
    "outputId": "e9a98cc5-cbac-465e-a049-9889d2b8ca67"
   },
   "outputs": [
    {
     "name": "stdout",
     "output_type": "stream",
     "text": [
      "The forecast for next GW is: [235.99353787]\n",
      "Points earned for next week 14\n"
     ]
    },
    {
     "data": {
      "text/plain": [
       "(<Figure size 432x288 with 1 Axes>,\n",
       " <matplotlib.axes._subplots.AxesSubplot at 0x7fe62c9c5510>)"
      ]
     },
     "execution_count": 53,
     "metadata": {
      "tags": []
     },
     "output_type": "execute_result"
    },
    {
     "data": {
      "image/png": "[encoded data removed]",
      "text/plain": [
       "<Figure size 432x288 with 1 Axes>"
      ]
     },
     "metadata": {
      "needs_background": "light",
      "tags": []
     },
     "output_type": "display_data"
    }
   ],
   "source": [
    "# Polynomial Regression for degree = 2\n",
    "\n",
    "xv_poly_test,yv_poly_test,y_predict_poly_test,forecast_poly_test = make_poly_regression(get_data(Fernandes_data)['gameweek'],get_data(Fernandes_data)['cumulative_points'],2,34)\n",
    "\n",
    "print('The forecast for next GW is:',forecast_poly_test)\n",
    "print('Points earned for next week %d' % (forecast_poly_test - get_data(Fernandes_data)['cumulative_points'][-1:]))\n",
    "\n",
    "plot_poly_points(get_data(Fernandes_data),2)\n"
   ]
  },
  {
   "cell_type": "code",
   "execution_count": null,
   "metadata": {
    "colab": {
     "base_uri": "https://localhost:8080/",
     "height": 365
    },
    "id": "s4S9KCospCTj",
    "outputId": "b651c30d-5b08-4be2-a049-da0b94c1e49d"
   },
   "outputs": [
    {
     "name": "stdout",
     "output_type": "stream",
     "text": [
      "The forecast for next GW is: [227.79916711]\n",
      "Points earned for next week 6\n"
     ]
    },
    {
     "data": {
      "text/plain": [
       "(<Figure size 432x288 with 1 Axes>,\n",
       " <matplotlib.axes._subplots.AxesSubplot at 0x7fe62c835950>)"
      ]
     },
     "execution_count": 54,
     "metadata": {
      "tags": []
     },
     "output_type": "execute_result"
    },
    {
     "data": {
      "image/png": "[encoded data removed]",
      "text/plain": [
       "<Figure size 432x288 with 1 Axes>"
      ]
     },
     "metadata": {
      "needs_background": "light",
      "tags": []
     },
     "output_type": "display_data"
    }
   ],
   "source": [
    "# Polynomial Regression for degree = 3\n",
    "\n",
    "xv_poly_test,yv_poly_test,y_predict_poly_test,forecast_poly_test = make_poly_regression(get_data(Fernandes_data)['gameweek'],get_data(Fernandes_data)['cumulative_points'],3,34)\n",
    "\n",
    "print('The forecast for next GW is:',forecast_poly_test)\n",
    "print('Points earned for next week %d' % (forecast_poly_test - get_data(Fernandes_data)['cumulative_points'][-1:]))\n",
    "\n",
    "plot_poly_points(get_data(Fernandes_data),3)"
   ]
  },
  {
   "cell_type": "code",
   "execution_count": null,
   "metadata": {
    "colab": {
     "base_uri": "https://localhost:8080/",
     "height": 365
    },
    "id": "lWcIrFiKpCbm",
    "outputId": "8ea47351-0efe-4f74-eee5-5c76402492b0"
   },
   "outputs": [
    {
     "name": "stdout",
     "output_type": "stream",
     "text": [
      "The forecast for next GW is: [219.58480029]\n",
      "Points earned for next week -1\n"
     ]
    },
    {
     "data": {
      "text/plain": [
       "(<Figure size 432x288 with 1 Axes>,\n",
       " <matplotlib.axes._subplots.AxesSubplot at 0x7fe62c46af90>)"
      ]
     },
     "execution_count": 55,
     "metadata": {
      "tags": []
     },
     "output_type": "execute_result"
    },
    {
     "data": {
      "image/png": "[encoded data removed]",
      "text/plain": [
       "<Figure size 432x288 with 1 Axes>"
      ]
     },
     "metadata": {
      "needs_background": "light",
      "tags": []
     },
     "output_type": "display_data"
    }
   ],
   "source": [
    "# Polynomial Regression for degree = 4\n",
    "\n",
    "xv_poly_test,yv_poly_test,y_predict_poly_test,forecast_poly_test = make_poly_regression(get_data(Fernandes_data)['gameweek'],get_data(Fernandes_data)['cumulative_points'],4,34)\n",
    "\n",
    "print('The forecast for next GW is:',forecast_poly_test)\n",
    "print('Points earned for next week %d' % (forecast_poly_test - get_data(Fernandes_data)['cumulative_points'][-1:]))\n",
    "\n",
    "plot_poly_points(get_data(Fernandes_data),4)"
   ]
  },
  {
   "cell_type": "markdown",
   "metadata": {
    "id": "9ejkKrFypClr"
   },
   "source": [
    "From seeing these models and visualizations, we can see that the degree 2 model also gives us a slightly higher points earned for Fernandes. We would probably go with the degree 3 model which says that he is likely to earn 6 points, as the degree 4 model gives us an unlikely result that Fernandes would earn -1 points. "
   ]
  },
  {
   "cell_type": "markdown",
   "metadata": {
    "id": "NRkGoD35pCxH"
   },
   "source": [
    "**CONCLUSION** \n",
    "\n",
    "The degree 3 Polynomial Regression model fits best and gives us an achievable and probable points outcome for the player. Let us now use this model to fit into the other players in our squad and finish our prediction. "
   ]
  },
  {
   "cell_type": "markdown",
   "metadata": {
    "id": "PP1Mj3sApC8V"
   },
   "source": [
    "We can streamline this process by creating a few functions to help us."
   ]
  },
  {
   "cell_type": "code",
   "execution_count": null,
   "metadata": {
    "collapsed": true,
    "id": "GFc-IplypDIL"
   },
   "outputs": [],
   "source": [
    "# Function for degree 3 Polynomial Regression output\n",
    "\n",
    "def get_prediction(x,y):\n",
    "    \n",
    "    '''\n",
    "    This function helps us to return the predicted points for the next gameweek for a player.\n",
    "    It uses the degree 4 polynomial regression model\n",
    "\n",
    "    '''\n",
    "    xv = x.to_numpy().reshape(-1,1)\n",
    "    yv = y.to_numpy()\n",
    "    \n",
    "    poly_reg = PolynomialFeatures(degree=3)\n",
    "    xv_poly = poly_reg.fit_transform(xv)\n",
    "        \n",
    "    lin = LinearRegression()\n",
    "    lin.fit(xv_poly, y)\n",
    "    \n",
    "    forecast = lin.predict(poly_reg.fit_transform([[34]]))\n",
    "    pred = forecast - yv[-1:]\n",
    "    \n",
    "    return np.round(pred)\n",
    "    \n",
    "\n",
    "def points_prediction(players):\n",
    "    '''\n",
    "    This function gives an array of points for the respective players inputted.\n",
    "    The input takes a list. \n",
    "    '''\n",
    "    predictions = []\n",
    "    for i in players:\n",
    "        predictions.append(get_prediction(get_data(i)['gameweek'],get_data(i)['cumulative_points']))\n",
    "    return np.array(predictions).T"
   ]
  },
  {
   "cell_type": "markdown",
   "metadata": {
    "id": "YFGY8HMZpDU4"
   },
   "source": [
    "### Goalkeeper predictions"
   ]
  },
  {
   "cell_type": "code",
   "execution_count": null,
   "metadata": {
    "colab": {
     "base_uri": "https://localhost:8080/"
    },
    "id": "6J8uWZDlpgvN",
    "outputId": "58f04992-c0e7-4c11-9092-620a6a25db9b"
   },
   "outputs": [
    {
     "name": "stdout",
     "output_type": "stream",
     "text": [
      "[[ 9. 10.]]\n"
     ]
    }
   ],
   "source": [
    "Goalkeepers = [Martínez_data, Meslier_data]\n",
    "print(points_prediction(Goalkeepers))"
   ]
  },
  {
   "cell_type": "markdown",
   "metadata": {
    "id": "GC1DdgD-pg28"
   },
   "source": [
    "We can see that from the Goalkeepers the predicted points for Meslier is the highest with **10**. Therefore, for our starting 11, we shall go with **MESLIER** in goal. "
   ]
  },
  {
   "cell_type": "markdown",
   "metadata": {
    "id": "vFnWLdh4pg_P"
   },
   "source": [
    "### Defender predictions"
   ]
  },
  {
   "cell_type": "code",
   "execution_count": null,
   "metadata": {
    "colab": {
     "base_uri": "https://localhost:8080/"
    },
    "id": "BW8ezaN_phII",
    "outputId": "0bca55f2-444b-49ab-bdd5-20b9528fa8bd"
   },
   "outputs": [
    {
     "name": "stdout",
     "output_type": "stream",
     "text": [
      "[[4. 6. 4. 1. 6.]]\n"
     ]
    }
   ],
   "source": [
    "Defenders = [WanBissaka_data, Dallas_data, Dunk_data, Robertson_data, Cancelo_data]\n",
    "print(points_prediction(Defenders))"
   ]
  },
  {
   "cell_type": "markdown",
   "metadata": {
    "id": "wAdZfH8BphQJ"
   },
   "source": [
    "### Midfielder predictions"
   ]
  },
  {
   "cell_type": "code",
   "execution_count": null,
   "metadata": {
    "colab": {
     "base_uri": "https://localhost:8080/"
    },
    "id": "uuA9O1xYphas",
    "outputId": "4952167a-8d41-4032-8667-92a5f476f21f"
   },
   "outputs": [
    {
     "name": "stdout",
     "output_type": "stream",
     "text": [
      "[[10.  7. -4.  8. 15.]]\n"
     ]
    }
   ],
   "source": [
    "Midfielders = [Mount_data, Fernandes_data, Soucek_data, Pereira_data, WardProwse_data]\n",
    "print(points_prediction(Midfielders))"
   ]
  },
  {
   "cell_type": "markdown",
   "metadata": {
    "id": "BHiaY-lBphk9"
   },
   "source": [
    "### Forward predictions"
   ]
  },
  {
   "cell_type": "code",
   "execution_count": null,
   "metadata": {
    "colab": {
     "base_uri": "https://localhost:8080/"
    },
    "id": "o_V_J46hphwp",
    "outputId": "2689abe6-7d90-4e47-fa87-be96b0c6cd23"
   },
   "outputs": [
    {
     "name": "stdout",
     "output_type": "stream",
     "text": [
      "[[26.  8. 10.]]\n"
     ]
    }
   ],
   "source": [
    "Forwards = [Kane_data, Bamford_data, Watkins_data]\n",
    "print(points_prediction(Forwards))"
   ]
  },
  {
   "cell_type": "markdown",
   "metadata": {
    "id": "GzAVfPVkp5Zq"
   },
   "source": [
    "### Final Selection"
   ]
  },
  {
   "cell_type": "markdown",
   "metadata": {
    "id": "Z-jMpN2xp5iR"
   },
   "source": [
    "The final selection is an easy selection of the 11 best players based on the projected points. \n",
    "\n",
    "For Goalkeeper we have: \n",
    "- **Meslier**\n",
    "\n",
    "The highest projected points players are Kane, Ward-Prowse, Mount, and Watkins so we include them into our team. \n",
    "\n",
    "As we hypothesised earlier, the defense point projecteds are not as high, therefore we will go with the minimum 3 Defenders at the back. \n",
    "\n",
    "Based on points **Dallas** and **Cancelo** make the cut. For our final defender, the raw data says that Wan-Bissaka has a slightly higher projection as compared to Dunk who also has a projected 4 points so we will go with **Wan-Bissaka**.\n",
    "\n",
    "Therefore now our Defense is also set:\n",
    "- **Wan-Bissaka**\n",
    "- **Dallas**\n",
    "- **Cancelo**\n",
    "\n",
    "For the Midfield, we go with everyone except Soucek, who has a negative points prediction (Yikes!)\n",
    "They are:\n",
    "- **Mount**\n",
    "- **Fernandes**\n",
    "- **Ward-Prowse**\n",
    "- **Pereira**\n",
    "\n",
    "And finally, to round it up, all our strikers have great projections and have to play to finish the 11 men. Therefore:\n",
    "- **Kane**\n",
    "- **Bamford**\n",
    "- **Watkins**\n",
    "\n",
    "So, in the end, this is how our final team with substitues look."
   ]
  },
  {
   "cell_type": "markdown",
   "metadata": {
    "id": "NlX4CoVbp5pD"
   },
   "source": [
    "![](http://drive.google.com/uc?export=view&id=1NJMpntTrDZjS54VYPmRoVIh9SOW9ssol)\n",
    "\n",
    "\n",
    "<font size=\"2\">**The text underneath the players indicate the team they will play next week**</font>"
   ]
  },
  {
   "cell_type": "markdown",
   "metadata": {
    "id": "yPrrPh4Kp5xq"
   },
   "source": [
    "### How does our squad match up ?"
   ]
  },
  {
   "cell_type": "markdown",
   "metadata": {
    "id": "J3Crny8Vp54s"
   },
   "source": [
    "We can now compare our scores based on the results of the gameweek which are available at https://fantasy.premierleague.com \n",
    "\n",
    "(*Note that the Gameweek data loaded at the start is not the most recent one which is what we did our analysis on. The recent gameweek data is still yet to be uploaded in the repo*)\n",
    "\n",
    "Therefore, we will use the points information available online on the direct website to determine our results. Firstly, let us see the combined total of the points we have in our team."
   ]
  },
  {
   "cell_type": "code",
   "execution_count": null,
   "metadata": {
    "colab": {
     "base_uri": "https://localhost:8080/"
    },
    "id": "QRWxchEap5_q",
    "outputId": "2eb749a2-b832-4f55-b1eb-533eda11bee4"
   },
   "outputs": [
    {
     "name": "stdout",
     "output_type": "stream",
     "text": [
      "Total expected points: 110\n"
     ]
    }
   ],
   "source": [
    "# Building final team and outputting total expected points \n",
    "\n",
    "final_team = [Meslier_data, WanBissaka_data, Dallas_data, Cancelo_data, Fernandes_data, WardProwse_data, Mount_data, Pereira_data, Watkins_data, Kane_data, Bamford_data]\n",
    "\n",
    "print('Total expected points: %d'% (np.sum(points_prediction(final_team).flatten())))"
   ]
  },
  {
   "cell_type": "markdown",
   "metadata": {
    "id": "xcK0ISALp6Gl"
   },
   "source": [
    "AWESOME! Although probably much higher than actuality, our prediction model gives us a total of 110.\n",
    "\n",
    "When we see online, the statistics for the gameweek:\n",
    "\n",
    "![](http://drive.google.com/uc?export=view&id=1uhVXcTA0xMXiZ1VUPCoaUs09gBTCjd21)\n",
    "\n",
    "Wow, so the highest points anyone earned that gameweek was 110 which was our predicted total surprisingly and the average points for the week was only 36.\n",
    "\n",
    "Once we comb through the statistics online (not able to download the data, points viewable on FPL website), we find that our team total points are as follows:\n",
    "\n",
    "***Note: (GW pushed to next) means that the players did not have a game that week but had 2 the following week, so their ideal score for the match is shown below***"
   ]
  },
  {
   "cell_type": "markdown",
   "metadata": {
    "id": "AwkH7XWKp6Or"
   },
   "source": [
    "**Meslier - 7** \n",
    "\n",
    "**Wan-Bissaka - 9 (GW pushed to next)** \n",
    "\n",
    "**Dallas - 6**\n",
    "\n",
    "**Cancelo - 7 (GW pushed to next)** \n",
    "\n",
    "**Fernandes - 3**\n",
    "\n",
    "**Ward-Prowse - 10 (GW pushed to next)**\n",
    "\n",
    "**Mount - 3**\n",
    "\n",
    "**Pereira - 10** \n",
    "\n",
    "**Bamford - 1** \n",
    "\n",
    "**Kane - 0**\n",
    "\n",
    "**Watkins - 5**\n",
    "\n",
    "**TOTAL POINTS : 61** "
   ]
  },
  {
   "cell_type": "markdown",
   "metadata": {
    "id": "MeYtalnWp6W6"
   },
   "source": [
    "As we can see we have completely beaten the average points for the gameweek.The top performers Periera, Ward-Prowse and Wan-BIssaka all did extremely well. \n",
    "\n",
    "Although we are far short of the predicted points for the squad, we did indeed see a huge gap between the actual points our team got and the average. Although there are certain \"wildcards\" we can play to boost our score for example the player assigned captain doubles the points he earns that week etc., the RAW total of our team is outstanding. \n",
    "\n",
    "There were some disappointments though, Kane unfortunately was the only player that did not manage to score points this week as he suffered an injury before the match. This was unforeseen and we cannot account for it even though he was our star player with the highest total points. Further, Bamford and Fernandes had average games and did not make much impact. "
   ]
  },
  {
   "cell_type": "markdown",
   "metadata": {
    "id": "k3w8vXunrAaV"
   },
   "source": [
    "# Conclusion "
   ]
  },
  {
   "cell_type": "markdown",
   "metadata": {
    "id": "i2QMC7c0rAmk"
   },
   "source": [
    "In conclusion, let me outline the steps I did to get to our final position. \n",
    "\n",
    "First, I created a decision metric to evaluate player performance in the Premier League. This was a Return on Investment (ROI) approach where player value and total points provided me with the best players, given the condition that we had to remain within a stipulated budget (100 million).\n",
    "\n",
    "I then looked at a top-down macro view of all the players in the dataset who had gametime. This yielded the players who had the most total points as well as the players with the best ROI. I also repeated the same process for team data to depict which players in a specific team are usually overvalued or undervalued. It provided me with a good idea of which players to look out for and notice when I do my analysis. \n",
    "\n",
    "Then, I approached the selection of the players by evaluating through each position as there are different metrics that are important per position. I then used visualizations as well as descriptive statistics and data analysis to present the data in an easy form for us to decide. While there were many options at times, through different sectors of analysis, I was able to combine all the available and discovered information to decide on my final picks as well as additional suggestions. \n",
    "\n",
    "After I shortlisted our players, we needed to select the team based on the picks. This is where I used my budget, holistic macro approach and additional suggestions to fit the best squad within the budget. The whole team was built. \n",
    "\n",
    "The second part of the project was to use various Regression models to predict player points in the next gameweek and build the 11 players who would then start that gameweek. I created functions and plots to see which models were the most effective in player points prediction. Once I picked the best model using a player as a sample, I applied the method to all the chosen players. This yielded the choices for the best players to start in the squad based on the projected points by the model. \n",
    "\n",
    "Finally, I compared the squad's total expected points with the actual points they earned for the gameweek and the average points earned by other players in the same gameweek. \n",
    "\n",
    "The results showed that our method and model performed much better than the average. The total points earned by the chosen team almost doubled the existing average of the gameweek. Further, players who were not popular picks present in our squad showed great results and were the predominant point scorers on the team. \n",
    "\n",
    "#### **Further thoughts**\n",
    "\n",
    "At the end of this project, although the results speak for themselves, there is a lot more room for improvement and quite a bit more work that can be done to build a better model. For example, the xGBoost algorithm that I originally put forth to implement can possibly lead to better results. Further, we can use more independent variables per player to reveal a more detailed evaluation of the player such as red/yellow cards, selection percent, popular transfers in or out etc. Further, our Regression model could also be improved to add more variables that can explain and predict total points. A lofty, but potentially effective idea could be to implement a Neural Network that takes in data with every additional week to modify the players that would be more effective in the coming gameweeks. There is also more that can be done with performing analysis with every additional week and deciding the player that should be transferred out if poor or a player that is performing well that can be added to the team.\n",
    "\n",
    "Although there is a lot more left to explore within this area, I think the overall results and ideas shown in the project reveal interesting information that can be used.\n",
    "\n"
   ]
  },
  {
   "cell_type": "markdown",
   "metadata": {
    "id": "FXuk3BXnrNqW"
   },
   "source": [
    "-----------------"
   ]
  },
  {
   "cell_type": "markdown",
   "metadata": {
    "id": "hv41ElVE5d0K"
   },
   "source": [
    "\n",
    "---\n",
    "# Submission Guidelines (keep this section here)\n",
    "---\n",
    "\n",
    "\n",
    "When you are ready to submit your project, part of the submission process will be to register your notebook for reviewing.  \n",
    "\n",
    "You will also receive the links and instructions to do the peer reviews.\n",
    "\n",
    "Please review the metadata:"
   ]
  },
  {
   "cell_type": "code",
   "execution_count": 68,
   "metadata": {
    "collapsed": true,
    "id": "VOUCKYCWBZDp"
   },
   "outputs": [],
   "source": [
    "def get_metadata():\n",
    "  meta = {\n",
    "          \"title\": PROJECT_TITLE, # keep this as is\n",
    "          \"nb_id\": NOTEBOOK_ID,   # keep this as is\n",
    "\n",
    "          \"data\" : [\"https://drive.google.com/uc?export=download&id=1xJ14--24ShiIJ0ONFYuORQHyYW6ufoYI\",\n",
    "                    \"https://drive.google.com/uc?export=download&id=1Ht-YCjEtaL8MzAZgfnGig_jqXZi0UK4K\",\n",
    "                    \"https://drive.google.com/uc?export=download&id=1z1elMejkbsVgCP8JPwTPMaMvQasWOUAU\",\n",
    "                    \"https://drive.google.com/uc?export=download&id=1AIMboyktZGS8w3LFY48SeQuAOLdW33Qb\",\n",
    "                    \"https://drive.google.com/uc?export=download&id=1-_S2dAD-Ay6yD_6CSf6OikTmfeW94Qmm\",\n",
    "                    \"https://drive.google.com/uc?export=download&id=1yyLmHXN-sTj-i1Oz_iLQyA8EojIATq18\",\n",
    "                    \"https://drive.google.com/uc?export=download&id=1xP795pkTvfzwBechaYH7S6lNCVNXV92K\",\n",
    "                    \"https://drive.google.com/uc?export=download&id=1bvkyGhp1DHcQHanm_mW93r2kcOEtKNGX\",\n",
    "                    \"https://drive.google.com/uc?export=download&id=1sWCIl2H1AHbhE3GXscVECujdgOPM-35W\",\n",
    "                    \"https://drive.google.com/uc?export=download&id=1remudFueQL9oWe5lVRs2wLh-VQ1Ztzj3\",\n",
    "                    \"https://drive.google.com/uc?export=download&id=1A0WBpOErdhYH2Ve6eXRxfi0knUzfWBVc\",\n",
    "                    \"https://drive.google.com/uc?export=download&id=1aT-voKVh3EdGVDKM-6VOGPNX7798a5lb\",\n",
    "                    \"https://drive.google.com/uc?export=download&id=1Ef4O6JguwkYS5oTLHmCYxizS5mUAcIzq\",\n",
    "                    \"https://drive.google.com/uc?export=download&id=1CSAM5grcmlcCQrlCaU6UK6IKO0qp3BbX\",\n",
    "                    \"https://drive.google.com/uc?export=download&id=1L3FKoxelMxzMptnLlqBv_9wf9M3emYFb\",\n",
    "                    \"https://drive.google.com/uc?export=download&id=1xYvPbDdAKok3zptMLrSTiEj7DvVY1ECz\",\n",
    "                    \"https://drive.google.com/uc?export=download&id=1LAkOpIGoUNjVaYDOT6WFD7jAZN_5wdog\",\n",
    "                    \"http://drive.google.com/uc?export=view&id=14a8IfMWj2EsJSgylj4h_WlSDniU3Z7NW\",\n",
    "                    \"http://drive.google.com/uc?export=view&id=1NJMpntTrDZjS54VYPmRoVIh9SOW9ssol\",\n",
    "                    \"http://drive.google.com/uc?export=view&id=1uhVXcTA0xMXiZ1VUPCoaUs09gBTCjd21\",\n",
    "                    \"http://drive.google.com/uc?export=view&id=1144j8voPajd64VhYTj6GNWQtmff4pV5d\",\n",
    "                    \"https://drive.google.com/uc?export=download&id=1kbUoGkUJBg2cg14S8POFLwKttOsWkHta\"],\n",
    "\n",
    "\n",
    "          # permissions\n",
    "          # do you give the instructor the permission to copy this project\n",
    "          # and allow others to view it in the class gallery?\n",
    "          \n",
    "          \"allow_gallery\" : True,\n",
    "          \n",
    "          # if your project is made viewable to others,\n",
    "          # do you want to include your name (first/last)?\n",
    "          \"allow_name_release\": True\n",
    "\n",
    "\n",
    "          }\n",
    "  return meta"
   ]
  },
  {
   "cell_type": "code",
   "execution_count": null,
   "metadata": {
    "collapsed": true,
    "id": "5VL0qIEBrFuj"
   },
   "outputs": [],
   "source": []
  },
  {
   "cell_type": "markdown",
   "metadata": {
    "id": "-_C-G52O29MM"
   },
   "source": [
    "Specific instructions will come for what to submit for the various milestones.\n",
    "\n",
    "If necessary, you can download the Python version of this notebook by using the `File->Download .py` as well as the notebook itself `File->Download .ipynb`.\n",
    "\n"
   ]
  }
 ],
 "metadata": {
  "colab": {
   "collapsed_sections": [],
   "name": "DMAP SP21 Final Project.ipynb",
   "provenance": []
  },
  "kernelspec": {
   "display_name": "Python 3",
   "language": "python",
   "name": "python3"
  },
  "language_info": {
   "codemirror_mode": {
    "name": "ipython",
    "version": 3
   },
   "file_extension": ".py",
   "mimetype": "text/x-python",
   "name": "python",
   "nbconvert_exporter": "python",
   "pygments_lexer": "ipython3",
   "version": "3.6.3"
  }
 },
 "nbformat": 4,
 "nbformat_minor": 1
}
